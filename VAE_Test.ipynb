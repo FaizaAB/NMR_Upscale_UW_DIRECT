{
 "cells": [
  {
   "cell_type": "code",
   "execution_count": 1,
   "id": "fe13cb26-f94d-4a4c-8ea7-84837b308736",
   "metadata": {
    "tags": []
   },
   "outputs": [
    {
     "name": "stdout",
     "output_type": "stream",
     "text": [
      "Using cuda device\n"
     ]
    }
   ],
   "source": [
    "# Loading in libraries necessary for CNN\n",
    "import torch\n",
    "import torch.nn as nn\n",
    "import numpy as np\n",
    "import os\n",
    "import glob\n",
    "from torch.utils.data import Dataset, DataLoader, TensorDataset\n",
    "import pandas as pd\n",
    "from torch.nn import Linear, ReLU, CrossEntropyLoss, Sequential, Conv2d, MaxPool2d, Module, Softmax, BatchNorm2d, Dropout, BatchNorm1d, ConvTranspose1d, KLDivLoss\n",
    "from torch.optim import Adam, SGD, Adagrad, RMSprop, SparseAdam, LBFGS, Adadelta\n",
    "from sklearn.model_selection import train_test_split\n",
    "import math\n",
    "import matplotlib.pyplot\n",
    "import time\n",
    "import torch.nn.functional as F\n",
    "import nmrsim\n",
    "from nmrsim import plt\n",
    "from itertools import product\n",
    "import statistics\n",
    "from tqdm import tqdm\n",
    "\n",
    "# whether to run on GPU or CPU\n",
    "device = torch.device('cuda' if torch.cuda.is_available() else 'cpu')\n",
    "print(f\"Using {device} device\")\n",
    "#print(torch.cuda.get_device_name(0))"
   ]
  },
  {
   "cell_type": "code",
   "execution_count": 2,
   "id": "283f4459-bef4-4913-b11f-f132fb9b56ed",
   "metadata": {
    "tags": []
   },
   "outputs": [
    {
     "name": "stdout",
     "output_type": "stream",
     "text": [
      "Total number of files:  1294\n"
     ]
    }
   ],
   "source": [
    "#Checking how many files are in repository for training, testing, and validation\n",
    "files = glob.glob('./Spectral_Data/spectral_data/400MHz/*.csv')\n",
    "print('Total number of files: ', len(files))"
   ]
  },
  {
   "cell_type": "code",
   "execution_count": 3,
   "id": "b57d8e56-fe6a-42b2-b6f1-d40e1f01846c",
   "metadata": {
    "tags": []
   },
   "outputs": [],
   "source": [
    "class GHzData(Dataset):\n",
    "    def __init__(self):\n",
    "        # Data loading starting with list of csv strings\n",
    "        self.files = glob.glob(os.path.join('./Spectral_Data/spectral_data/400MHz', \n",
    "                                                       'spectral_data_*.csv'))\n",
    "\n",
    "        self.y_60 = [] # Establishes a list for 60 MHz data\n",
    "        self.y_400 = [] # Establishes a list for 400 MHz data\n",
    "\n",
    "        for self.file in self.files: # For loop for each file in files\n",
    "            self.df = pd.read_csv(self.file) # Reads each into a pandas dataframe\n",
    "            self.array_60 = self.df['60MHz_intensity'].to_numpy() # Takes 60MHz intensity to np\n",
    "            self.array_400 = self.df['400MHz_intensity'].to_numpy() # Takes 400MHz intensity to np\n",
    "            self.y_60.append(self.array_60) # Appends all arrays to 60MHz list\n",
    "            self.y_400.append(self.array_400) # Appends all arrays to 400MHz list\n",
    "            \n",
    "        # Creates a 60 MHz tensor from list, converts to float, unsqueezes to have shape (n, 1, 5500)\n",
    "        self.tensor_60 = torch.Tensor(self.y_60).float().unsqueeze(1).to(device)        \n",
    "\n",
    "        # Creates a 400 MHz tensor from list, converts to float, unsqueezes to have shape (n, 1, 5500)\n",
    "        self.tensor_400 = torch.Tensor(self.y_400).float().unsqueeze(1).to(device)\n",
    "        \n",
    "        # Track the length of number of samples in frame\n",
    "        self.num_samples = len(self.y_60)\n",
    "\n",
    "    def __getitem__(self, index): # establishes an index for the tensors\n",
    "        return self.tensor_60[index], self.tensor_400[index]\n",
    "    \n",
    "    def __len__(self): # Returns variable number of samples\n",
    "        return self.num_samples\n",
    "    \n",
    "  "
   ]
  },
  {
   "cell_type": "code",
   "execution_count": 4,
   "id": "1779a990-1895-4202-b869-759ae4143b60",
   "metadata": {
    "tags": []
   },
   "outputs": [],
   "source": [
    "features = 5500\n",
    "encode = 512\n",
    "# define a simple linear VAE\n",
    "class LinearVAE(nn.Module):\n",
    "    def __init__(self):\n",
    "        super(LinearVAE, self).__init__()\n",
    " \n",
    "        # encoder\n",
    "        self.enc1 = nn.Linear(in_features=5500, out_features=encode)\n",
    "        self.enc2 = nn.Linear(in_features=encode, out_features=features*2)\n",
    " \n",
    "        # decoder \n",
    "        self.dec1 = nn.Linear(in_features=features, out_features=encode)\n",
    "        self.dec2 = nn.Linear(in_features=encode, out_features=5500)\n",
    "    def reparameterize(self, mu, log_var):\n",
    "        \"\"\"\n",
    "        :param mu: mean from the encoder's latent space\n",
    "        :param log_var: log variance from the encoder's latent space\n",
    "        \"\"\"\n",
    "        std = torch.exp(0.5*log_var) # standard deviation\n",
    "        eps = torch.randn_like(std) # `randn_like` as we need the same size\n",
    "        sample = mu + (eps * std) # sampling as if coming from the input space\n",
    "        return sample\n",
    " \n",
    "    def forward(self, x):\n",
    "        # add an additional dimension to the input tensor\n",
    "        x = x.view(-1, 5500)\n",
    "        x = x.unsqueeze(1)\n",
    "        # encoding\n",
    "        x = F.relu(self.enc1(x))\n",
    "        x = self.enc2(x).view(-1, 2, features)\n",
    "\n",
    "        # get `mu` and `log_var`\n",
    "        mu = x[:, 0, :] # the first feature values as mean\n",
    "        log_var = x[:, 1, :] # the other feature values as variance\n",
    "        # get the latent vector through reparameterization\n",
    "        z = self.reparameterize(mu, log_var)\n",
    " \n",
    "        # decoding\n",
    "        x = F.relu(self.dec1(z))\n",
    "        #print(x.shape)\n",
    "        reconstruction = torch.sigmoid(self.dec2(x))\n",
    "        reconstruction = reconstruction.unsqueeze(1)\n",
    "        #print(reconstruction.shape)\n",
    "        return reconstruction, mu, log_var"
   ]
  },
  {
   "cell_type": "code",
   "execution_count": 5,
   "id": "462c7ebc-b9f9-443c-881f-fdb3c6ef5e65",
   "metadata": {
    "tags": []
   },
   "outputs": [],
   "source": [
    "def fit(model, dataloader):\n",
    "    model.train()\n",
    "    running_loss = 0.0\n",
    "    for i, data in enumerate(dataloader):\n",
    "        data, _ = data\n",
    "        data = data.to(device)\n",
    "        #data = data.view(data.size(0), -1)\n",
    "        optimizer.zero_grad()\n",
    "        reconstruction, mu, logvar = model(data)\n",
    "        bce_loss = criterion(reconstruction, data)\n",
    "        loss = final_loss(bce_loss, mu, logvar)\n",
    "        running_loss += loss.item()\n",
    "        loss.backward()\n",
    "        optimizer.step()\n",
    "    train_loss = running_loss/len(dataloader.dataset)\n",
    "    return train_loss"
   ]
  },
  {
   "cell_type": "code",
   "execution_count": 6,
   "id": "40873643-0803-47f6-a21a-48c6ea573504",
   "metadata": {
    "tags": []
   },
   "outputs": [],
   "source": [
    "def validate(model, dataloader):\n",
    "    model.eval()\n",
    "    running_loss = 0.0\n",
    "    with torch.no_grad():\n",
    "        for i, data in enumerate(dataloader):\n",
    "            data, _ = data\n",
    "            data = data.to(device)\n",
    "            reconstruction, mu, logvar = model(data)\n",
    "            bce_loss = criterion(reconstruction, data)\n",
    "            loss = final_loss(bce_loss, mu, logvar)\n",
    "            running_loss += loss.item()\n",
    "        \n",
    "    val_loss = running_loss/len(dataloader.dataset)\n",
    "    return val_loss"
   ]
  },
  {
   "cell_type": "code",
   "execution_count": 7,
   "id": "b9e514fb-4b24-4b43-b1ba-1628f7a7b714",
   "metadata": {
    "tags": []
   },
   "outputs": [],
   "source": [
    "def final_loss(bce_loss, mu, logvar):\n",
    "    \"\"\"\n",
    "    This function will add the reconstruction loss (BCELoss) and the \n",
    "    KL-Divergence.\n",
    "    KL-Divergence = 0.5 * sum(1 + log(sigma^2) - mu^2 - sigma^2)\n",
    "    :param bce_loss: recontruction loss\n",
    "    :param mu: the mean from the latent vector\n",
    "    :param logvar: log variance from the latent vector\n",
    "    \"\"\"\n",
    "    BCE = bce_loss \n",
    "    KLD = -0.5 * torch.sum(1 + logvar - mu.pow(2) - logvar.exp())\n",
    "    return BCE + KLD"
   ]
  },
  {
   "cell_type": "code",
   "execution_count": 8,
   "id": "33cf71b9-5722-48fe-8a92-844b4516c102",
   "metadata": {},
   "outputs": [],
   "source": [
    "num_epochs = 20\n",
    "lr = 0.007\n",
    "train_batch_size = 32"
   ]
  },
  {
   "cell_type": "code",
   "execution_count": 9,
   "id": "ea1af3c6-c5cf-43a2-8283-a6982b7312c9",
   "metadata": {
    "tags": []
   },
   "outputs": [],
   "source": [
    "model = LinearVAE().to(device)\n",
    "optimizer = Adam(model.parameters(), lr=lr)\n",
    "#criterion = nn.BCELoss(reduction='mean')\n",
    "criterion = nn.KLDivLoss()"
   ]
  },
  {
   "cell_type": "code",
   "execution_count": 10,
   "id": "54c5be31-6f26-4c69-8b95-c1a52fd4392d",
   "metadata": {
    "tags": []
   },
   "outputs": [
    {
     "name": "stderr",
     "output_type": "stream",
     "text": [
      "/home/garrettreinhard/miniconda3/envs/isotope/lib/python3.7/site-packages/ipykernel_launcher.py:18: UserWarning: Creating a tensor from a list of numpy.ndarrays is extremely slow. Please consider converting the list to a single numpy.ndarray with numpy.array() before converting to a tensor. (Triggered internally at ../torch/csrc/utils/tensor_new.cpp:230.)\n"
     ]
    }
   ],
   "source": [
    "# Establishing and loading data into notebook\n",
    "dataset = GHzData()\n",
    "\n",
    "#Splitting the data\n",
    "train_X, test_X, train_y, test_y = train_test_split(dataset.tensor_60, dataset.tensor_400,\n",
    "                                                    test_size=0.1)\n",
    "\n",
    "# Splits train data into validation data\n",
    "train_X, valid_X, train_y, valid_y = train_test_split(train_X, train_y,\n",
    "                                                      test_size=0.1)\n",
    "# Creating datasets\n",
    "train_dataset = TensorDataset(train_X, train_y)\n",
    "test_dataset = TensorDataset(test_X, test_y)\n",
    "valid_dataset = TensorDataset(valid_X, valid_y)\n",
    "\n",
    "# Batch size change to higher batch sizes\n",
    "train_dataloader = DataLoader(train_dataset, batch_size=train_batch_size, shuffle=True)\n",
    "valid_dataloader = DataLoader(valid_dataset, batch_size=128, shuffle=True)\n",
    "test_dataloader = DataLoader(test_dataset, batch_size=128, shuffle=True)"
   ]
  },
  {
   "cell_type": "code",
   "execution_count": null,
   "id": "e5a749ba-a11b-4e65-8ca2-782b5e83e428",
   "metadata": {
    "tags": []
   },
   "outputs": [
    {
     "name": "stderr",
     "output_type": "stream",
     "text": [
      "/home/garrettreinhard/miniconda3/envs/isotope/lib/python3.7/site-packages/torch/nn/functional.py:2917: UserWarning: reduction: 'mean' divides the total loss by both the batch size and the support size.'batchmean' divides only by the batch size, and aligns with the KL div math definition.'mean' will be changed to behave the same as 'batchmean' in the next major release.\n",
      "  \"reduction: 'mean' divides the total loss by both the batch size and the support size.\"\n"
     ]
    },
    {
     "name": "stdout",
     "output_type": "stream",
     "text": [
      "Epoch 0 Training loss: 0.9229\n",
      "Epoch 0 Valid loss: 0.0357\n",
      "Epoch 10 Training loss: -0.0030\n",
      "Epoch 10 Valid loss: -0.0009\n"
     ]
    }
   ],
   "source": [
    "train_loss = []\n",
    "val_loss = []\n",
    "for epoch in range(num_epochs):\n",
    "    train_epoch_loss = fit(model, train_dataloader)\n",
    "    val_epoch_loss = validate(model, valid_dataloader)\n",
    "    train_loss.append(train_epoch_loss)\n",
    "    val_loss.append(val_epoch_loss)\n",
    "    if(int(epoch) % 10) == 0:\n",
    "        print(f'Epoch {epoch} Training loss: {train_epoch_loss:.4f}')   \n",
    "        print(f'Epoch {epoch} Valid loss: {val_epoch_loss:.4f}')   "
   ]
  },
  {
   "cell_type": "code",
   "execution_count": 23,
   "id": "24d5616d-7edb-44e4-9fc6-3dc3ab1c48f7",
   "metadata": {
    "tags": []
   },
   "outputs": [
    {
     "data": {
      "image/png": "[encoded data removed]",
      "text/plain": [
       "<Figure size 640x480 with 1 Axes>"
      ]
     },
     "metadata": {},
     "output_type": "display_data"
    }
   ],
   "source": [
    "x = np.linspace(1, num_epochs, num_epochs)\n",
    "\n",
    "fig, ax = matplotlib.pyplot.subplots()\n",
    "ax.plot(x, val_loss, label='Validation Loss')\n",
    "ax.plot(x, train_loss, label='Training Loss' )\n",
    "#matplotlib.pyplot.xlim([5, 25])\n",
    "matplotlib.pyplot.ylim([-statistics.mean(val_loss)*2, statistics.mean(val_loss)*2])\n",
    "matplotlib.pyplot.xlabel('Number of Epochs')\n",
    "matplotlib.pyplot.ylabel('Loss')\n",
    "matplotlib.pyplot.legend()\n",
    "matplotlib.pyplot.show()"
   ]
  },
  {
   "cell_type": "code",
   "execution_count": null,
   "id": "8efb2ae1-234b-435b-b4dc-f700935860e2",
   "metadata": {},
   "outputs": [
    {
     "name": "stdout",
     "output_type": "stream",
     "text": [
      "torch.Size([128, 1, 5500])\n",
      "torch.Size([128, 5500])\n",
      "torch.Size([2, 1, 5500])\n",
      "torch.Size([2, 5500])\n"
     ]
    }
   ],
   "source": [
    "model.eval()\n",
    "with torch.no_grad():\n",
    "    for inputs, _ in test_dataloader:\n",
    "        print(inputs.shape)\n",
    "        inputs = inputs.squeeze(1)\n",
    "        print(inputs.shape)\n",
    "\n",
    "        reconstruction, _, _ = model(inputs)\n",
    "\n",
    "#predictions_numpy = reconstruction.cpu().numpy()\n",
    "#predictions_numpy = np.concatenate(predictions_numpy)\n",
    "#predictions_numpy.shape\n",
    "#pred = pd.DataFrame(predictions_numpy)"
   ]
  },
  {
   "cell_type": "code",
   "execution_count": null,
   "id": "fb9712f6-b218-4fd4-b6de-5d6282c2c84f",
   "metadata": {
    "tags": []
   },
   "outputs": [],
   "source": [
    "df_60 = pd.read_csv('./Spectral_Data/spectral_data/400MHz/Test_Data/spectral_data_12_00052.csv')\n",
    "df_x = df_60['60MHz_intensity']\n",
    "df_x = df_x.to_numpy()\n",
    "df_x = torch.Tensor(df_x).to(device)"
   ]
  },
  {
   "cell_type": "code",
   "execution_count": null,
   "id": "f25cdc57-57be-4488-95dd-57917d6b06f3",
   "metadata": {
    "tags": []
   },
   "outputs": [],
   "source": [
    "reconstruction, _, _, = model(df_x)\n",
    "reconstruction_numpy = reconstruction.detach().cpu().numpy()"
   ]
  },
  {
   "cell_type": "code",
   "execution_count": null,
   "id": "496581d4-e925-45d8-aa8d-6127999d4e61",
   "metadata": {
    "tags": []
   },
   "outputs": [
    {
     "data": {
      "text/plain": [
       "array([[[1., 1., 1., ..., 1., 1., 1.]]], dtype=float32)"
      ]
     },
     "execution_count": 16,
     "metadata": {},
     "output_type": "execute_result"
    }
   ],
   "source": [
    "reconstruction_numpy"
   ]
  },
  {
   "cell_type": "code",
   "execution_count": null,
   "id": "6049b166-21a5-41aa-827c-55105d86496e",
   "metadata": {
    "tags": []
   },
   "outputs": [
    {
     "data": {
      "image/png": "[encoded data removed]",
      "text/plain": [
       "<Figure size 640x480 with 1 Axes>"
      ]
     },
     "metadata": {},
     "output_type": "display_data"
    },
    {
     "data": {
      "text/plain": [
       "(0       -0.500000\n",
       " 1       -0.498000\n",
       " 2       -0.495999\n",
       " 3       -0.493999\n",
       " 4       -0.491999\n",
       "           ...    \n",
       " 5495    10.491999\n",
       " 5496    10.493999\n",
       " 5497    10.495999\n",
       " 5498    10.498000\n",
       " 5499    10.500000\n",
       " Name: 60MHz_ppm, Length: 5500, dtype: float64,\n",
       " 0       0.000332\n",
       " 1       0.000334\n",
       " 2       0.000335\n",
       " 3       0.000337\n",
       " 4       0.000338\n",
       "           ...   \n",
       " 5495    0.000094\n",
       " 5496    0.000094\n",
       " 5497    0.000094\n",
       " 5498    0.000094\n",
       " 5499    0.000094\n",
       " Name: 60MHz_intensity, Length: 5500, dtype: float64)"
      ]
     },
     "execution_count": 17,
     "metadata": {},
     "output_type": "execute_result"
    }
   ],
   "source": [
    "nmrsim.plt.mplplot_lineshape(df_60['60MHz_ppm'], df_60['60MHz_intensity'], limits=(-0.5, 10.5))"
   ]
  },
  {
   "cell_type": "code",
   "execution_count": null,
   "id": "d0f65c22-08c0-40c1-9b22-d300f159d46a",
   "metadata": {
    "tags": []
   },
   "outputs": [
    {
     "data": {
      "image/png": "[encoded data removed]",
      "text/plain": [
       "<Figure size 640x480 with 1 Axes>"
      ]
     },
     "metadata": {},
     "output_type": "display_data"
    },
    {
     "data": {
      "text/plain": [
       "(array([-0.5       , -0.49799964, -0.49599927, ..., 10.49599927,\n",
       "        10.49799964, 10.5       ]),\n",
       " array([1., 1., 1., ..., 1., 1., 1.], dtype=float32))"
      ]
     },
     "execution_count": 18,
     "metadata": {},
     "output_type": "execute_result"
    }
   ],
   "source": [
    "x = np.linspace(-.5,10.5,5500)\n",
    "y = reconstruction_numpy[0][0]\n",
    "\n",
    "\n",
    "nmrsim.plt.mplplot_lineshape(x, y, limits=(-0.5, 10.5))"
   ]
  },
  {
   "cell_type": "code",
   "execution_count": null,
   "id": "22931fdf-35bb-4b89-ad1f-186093057952",
   "metadata": {
    "tags": []
   },
   "outputs": [
    {
     "data": {
      "image/png": "[encoded data removed]",
      "text/plain": [
       "<Figure size 640x480 with 1 Axes>"
      ]
     },
     "metadata": {},
     "output_type": "display_data"
    },
    {
     "data": {
      "text/plain": [
       "(array([-0.5       , -0.49799964, -0.49599927, ..., 10.49599927,\n",
       "        10.49799964, 10.5       ]),\n",
       " array([7.42848547e-06, 7.46112740e-06, 7.49409595e-06, ...,\n",
       "        2.11011925e-06, 2.10779345e-06, 2.10547204e-06]))"
      ]
     },
     "execution_count": 19,
     "metadata": {},
     "output_type": "execute_result"
    }
   ],
   "source": [
    "nmrsim.plt.mplplot_lineshape(np.array(df_60['400MHz_ppm']), np.array(df_60['400MHz_intensity']), limits=(-0.5, 10.5))"
   ]
  },
  {
   "cell_type": "code",
   "execution_count": null,
   "id": "59bbad63-b609-48d6-9672-288e9d02123e",
   "metadata": {},
   "outputs": [],
   "source": []
  },
  {
   "cell_type": "code",
   "execution_count": null,
   "id": "e0c97b2c-ff49-49eb-9c60-bd6671b72223",
   "metadata": {},
   "outputs": [],
   "source": []
  }
 ],
 "metadata": {
  "kernelspec": {
   "display_name": "Python 3 (ipykernel)",
   "language": "python",
   "name": "python3"
  },
  "language_info": {
   "codemirror_mode": {
    "name": "ipython",
    "version": 3
   },
   "file_extension": ".py",
   "mimetype": "text/x-python",
   "name": "python",
   "nbconvert_exporter": "python",
   "pygments_lexer": "ipython3",
   "version": "3.7.7"
  }
 },
 "nbformat": 4,
 "nbformat_minor": 5
}
