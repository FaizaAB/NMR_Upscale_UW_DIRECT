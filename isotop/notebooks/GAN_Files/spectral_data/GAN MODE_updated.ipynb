{
 "cells": [
  {
   "cell_type": "code",
   "execution_count": 1,
   "id": "d7d033b5",
   "metadata": {},
   "outputs": [],
   "source": [
    "import torch\n",
    "import torch.nn as nn\n",
    "import torch.optim as optim\n",
    "from torch.utils.data import DataLoader, Dataset\n",
    "import numpy as np\n",
    "import matplotlib.pyplot as plt\n",
    "import seaborn as sb\n",
    "import glob\n",
    "import os\n",
    "import pandas as pd\n",
    "from sklearn.model_selection import train_test_split\n",
    "import math\n",
    "from torch.utils.data import Dataset, DataLoader, TensorDataset\n",
    "from sklearn.model_selection import train_test_split\n",
    "from sklearn.metrics import r2_score"
   ]
  },
  {
   "cell_type": "code",
   "execution_count": 2,
   "id": "381ecbdc",
   "metadata": {},
   "outputs": [],
   "source": [
    "df_600=pd.DataFrame()\n",
    "df_600=pd.read_csv(\"600.csv\")\n",
    "df_fake=pd.DataFrame()\n",
    "df_fake=pd.read_csv(\"fake_data.csv\")\n",
    "df_60=pd.DataFrame()\n",
    "df_60=pd.read_csv(\"60.csv\")"
   ]
  },
  {
   "cell_type": "code",
   "execution_count": 3,
   "id": "34ae9295",
   "metadata": {},
   "outputs": [],
   "source": [
    "# Split the dataset into train, validation, and test sets\n",
    "x_train, x_test, y_train, y_test = train_test_split(df_60, df_600, test_size=0.2, random_state=42)\n",
    "x_train, x_val, y_train, y_val = train_test_split(x_train, y_train, test_size=0.25, random_state=42)\n",
    "\n",
    "# Convert the data to PyTorch tensors\n",
    "x_train = torch.tensor(x_train.values).float()\n",
    "y_train = torch.tensor(y_train.values).float()\n",
    "x_val = torch.tensor(x_val.values).float()\n",
    "y_val = torch.tensor(y_val.values).float()\n",
    "x_test = torch.tensor(x_test.values).float()\n",
    "y_test = torch.tensor(y_test.values).float()\n",
    "data_f=torch.tensor(df_fake.values).float()"
   ]
  },
  {
   "cell_type": "code",
   "execution_count": 4,
   "id": "228ad82e",
   "metadata": {},
   "outputs": [
    {
     "name": "stdout",
     "output_type": "stream",
     "text": [
      "Using cuda device\n"
     ]
    }
   ],
   "source": [
    "# whether to run on GPU or CPU\n",
    "device = torch.device('cuda' if torch.cuda.is_available() else 'cpu')\n",
    "print(f\"Using {device} device\")\n",
    "#print(torch.cuda.get_device_name(0))"
   ]
  },
  {
   "cell_type": "code",
   "execution_count": 5,
   "id": "42f13ce0",
   "metadata": {},
   "outputs": [],
   "source": [
    "class Discriminator(nn.Module):\n",
    "    def __init__(self):\n",
    "        super(Discriminator, self).__init__()\n",
    "        self.fc1 = nn.Linear(5500, 256)\n",
    "        self.fc2 = nn.Linear(256, 512)\n",
    "        self.fc3 = nn.Linear(512, 1024)\n",
    "        self.fc4 = nn.Linear(1024, 2048)\n",
    "        self.fc5 = nn.Linear(2048, 4096)\n",
    "        self.fc6 = nn.Linear(4096, 8192)\n",
    "        self.fc7 = nn.Linear(8192, 16384)\n",
    "        self.fc8 = nn.Linear(16384, 30720)\n",
    "        self.fc9 = nn.Linear(30720, 1)\n",
    "\n",
    "    def forward(self, x):\n",
    "        x = nn.functional.relu(self.fc1(x))\n",
    "        x = nn.functional.relu(self.fc2(x))\n",
    "        x = nn.functional.relu(self.fc3(x))\n",
    "        x = nn.functional.relu(self.fc4(x))\n",
    "        x = nn.functional.relu(self.fc5(x))\n",
    "        x = nn.functional.relu(self.fc6(x))\n",
    "        x = nn.functional.relu(self.fc7(x))\n",
    "        x = nn.functional.relu(self.fc8(x))\n",
    "        x = self.fc9(x)\n",
    "        x = nn.functional.sigmoid(x)\n",
    "        return x\n"
   ]
  },
  {
   "cell_type": "code",
   "execution_count": null,
   "id": "c3d144f6",
   "metadata": {},
   "outputs": [],
   "source": []
  },
  {
   "cell_type": "code",
   "execution_count": 6,
   "id": "c29e52f3",
   "metadata": {},
   "outputs": [],
   "source": [
    "class Generator(nn.Module):\n",
    "    def __init__(self):\n",
    "        super(Generator, self).__init__()\n",
    "        self.fc1 = nn.Linear(5500, 256)\n",
    "        self.fc2 = nn.Linear(256, 512)\n",
    "        self.fc3 = nn.Linear(512, 1024)\n",
    "        self.fc4 = nn.Linear(1024, 2048)\n",
    "        self.fc5 = nn.Linear(2048, 4096)\n",
    "        self.fc6 = nn.Linear(4096, 8192)\n",
    "        self.fc7 = nn.Linear(8192, 16384)\n",
    "        self.fc8 = nn.Linear(16384, 30720)\n",
    "        self.fc9 = nn.Linear(30720, 5500)\n",
    "\n",
    "    def forward(self, x):\n",
    "        x = nn.functional.relu(self.fc1(x))\n",
    "        x = nn.functional.relu(self.fc2(x))\n",
    "        x = nn.functional.relu(self.fc3(x))\n",
    "        x = nn.functional.relu(self.fc4(x))\n",
    "        x = nn.functional.relu(self.fc5(x))\n",
    "        x = nn.functional.relu(self.fc6(x))\n",
    "        x = nn.functional.relu(self.fc7(x))\n",
    "        x = nn.functional.relu(self.fc8(x))\n",
    "        x = self.fc9(x)\n",
    "        return x"
   ]
  },
  {
   "cell_type": "code",
   "execution_count": null,
   "id": "cd51343d",
   "metadata": {},
   "outputs": [],
   "source": []
  },
  {
   "cell_type": "code",
   "execution_count": null,
   "id": "2fe1a776",
   "metadata": {},
   "outputs": [],
   "source": [
    "\n",
    "                \n",
    "\n",
    "    \n",
    "    "
   ]
  },
  {
   "cell_type": "code",
   "execution_count": null,
   "id": "53021faf",
   "metadata": {},
   "outputs": [],
   "source": []
  },
  {
   "cell_type": "code",
   "execution_count": null,
   "id": "f532c879",
   "metadata": {},
   "outputs": [],
   "source": [
    "\n",
    "\n",
    "'''def generate(self, num_samples):\n",
    "        noise = torch.randn(num_samples, self.input_size)\n",
    "        return self.generator(noise)'''"
   ]
  },
  {
   "cell_type": "code",
   "execution_count": null,
   "id": "ee256f6a",
   "metadata": {},
   "outputs": [],
   "source": []
  },
  {
   "cell_type": "code",
   "execution_count": null,
   "id": "9de449ce",
   "metadata": {},
   "outputs": [],
   "source": []
  },
  {
   "cell_type": "code",
   "execution_count": 36,
   "id": "6415a9a9",
   "metadata": {},
   "outputs": [
    {
     "data": {
      "text/plain": [
       "<AxesSubplot:ylabel='1'>"
      ]
     },
     "execution_count": 36,
     "metadata": {},
     "output_type": "execute_result"
    },
    {
     "data": {
      "image/png": "[encoded data removed]",
      "text/plain": [
       "<Figure size 640x480 with 1 Axes>"
      ]
     },
     "metadata": {},
     "output_type": "display_data"
    }
   ],
   "source": [
    "df=pd.DataFrame(val_outputs.numpy())\n",
    "df=df.transpose()\n",
    "sb.lineplot(data=df[1])\n"
   ]
  },
  {
   "cell_type": "code",
   "execution_count": null,
   "id": "adae1a6b",
   "metadata": {},
   "outputs": [],
   "source": [
    "discriminator_lr=0.05\n",
    "generator_lr=0.05\n",
    "        \n",
    "generator=Generator()\n",
    "discriminator=Discriminator()       \n",
    "        \n",
    "d_optimizer = optim.Adam(discriminator.parameters(), lr=discriminator_lr)\n",
    "g_optimizer = optim.Adam(generator.parameters(), lr=generator_lr)\n",
    "loss = nn.BCELoss()\n",
    "        \n",
    "\n",
    "\n",
    "        \n",
    "        # Define the loss function and optimizer\n",
    "criterion_model = nn.MSELoss()\n",
    "optimizer_model = torch.optim.Adam(generator.parameters(), lr=0.05)\n",
    "\n",
    "        # Train the model\n",
    "train_losses = []\n",
    "val_losses = []\n",
    "d_losses = []\n",
    "g_losses = []\n",
    "batch_size=50\n",
    "epoches=500\n",
    "\n",
    "for epo in range(epoches):\n",
    "    for i in range(0, x_train.shape[0], batch_size):\n",
    "        \n",
    "        # Get the batch\n",
    "        batch_x = x_train[i:i+batch_size]\n",
    "        batch_y = y_train[i:i+batch_size]\n",
    "                    \n",
    "                # Zero the parameter gradients\n",
    "        optimizer_model.zero_grad()\n",
    "\n",
    "                # Forward pass\n",
    "        outputs = generator(batch_x)\n",
    "\n",
    "                # Compute the loss\n",
    "        train_loss = criterion_model(outputs, batch_y)\n",
    "\n",
    "                # Backward pass and optimize\n",
    "        train_loss.backward(retain_graph=True)\n",
    "        optimizer_model.step()\n",
    "        \n",
    "        #Train Discriminator\n",
    "        d_optimizer.zero_grad()\n",
    "        real_labels = torch.ones(batch_y.size(0), 1)\n",
    "        fake_labels = torch.zeros(20, 1)\n",
    "\n",
    "        # Train discriminator on real data\n",
    "        real_output = discriminator(batch_y)\n",
    "        loss_real=loss(real_output, real_labels)\n",
    "        real_loss =loss_real.mean().item()\n",
    "\n",
    "        # Train discriminator on fake data generated by generator\n",
    "        noise = data_f\n",
    "        fake_data = noise #self.generator(noise)\n",
    "        fake_output = discriminator(fake_data)\n",
    "        loss_fake=loss(fake_output, fake_labels)\n",
    "        fake_loss =loss_fake.mean().item()\n",
    "        \n",
    "        # Compute total discriminator loss and backpropagate\n",
    "        total_loss = loss_real + loss_fake\n",
    "        total_loss.backward()\n",
    "        d_optimizer.step()\n",
    "        d_losses.append(total_loss.item())\n",
    "        \n",
    "        #train generator\n",
    "        g_optimizer.zero_grad()\n",
    "        labels = torch.ones(outputs.size(0), 1)\n",
    "\n",
    "            # Generate fake data and compute generator loss\n",
    "        outputs_new = generator(batch_x)\n",
    "        output = discriminator(outputs_new)\n",
    "        loss_g=loss(output, labels)\n",
    "        #g_loss = loss_g.mean().item()\n",
    "        g_loss = loss_g.item()\n",
    "    \n",
    "        \n",
    "# Backpropagate and update generator weights\n",
    "        loss_g.backward()\n",
    "        g_optimizer.step()\n",
    "        g_losses.append(g_loss)   \n",
    "        \n",
    "        # Evaluate the model on the validation set\n",
    "    with torch.no_grad():\n",
    "        val_outputs = generator(x_val)\n",
    "        val_loss = criterion_model(val_outputs, y_val) \n",
    "        \n",
    "        train_losses.append(train_loss.item())\n",
    "    val_losses.append(val_loss.item())\n",
    "\n",
    "    print(f\"Epoch {epo+1}/{epoches},Train Loss: {train_loss.item():.4f}, Val Loss: {val_loss.item():.4f}, G Loss: {loss_g.item():.4f}, D Loss: {total_loss.item():.4f}\")\n",
    "    \n",
    "         \n",
    "            \n",
    "# Evaluate the model on the test set\n",
    "with torch.no_grad():\n",
    "    test_outputs = generator(x_test)\n",
    "    test_loss = criterion_model(test_outputs, y_test)\n",
    "\n",
    "print(f\"Test Loss: {test_loss.item():.4f}\")  "
   ]
  },
  {
   "cell_type": "code",
   "execution_count": 16,
   "id": "9eebf652",
   "metadata": {},
   "outputs": [
    {
     "name": "stdout",
     "output_type": "stream",
     "text": [
      "Test Loss: 0.0019\n"
     ]
    }
   ],
   "source": [
    "# Evaluate the model on the test set\n",
    "with torch.no_grad():\n",
    "    test_outputs = generator(x_test)\n",
    "    test_loss = criterion_model(test_outputs, y_test)\n",
    "\n",
    "print(f\"Test Loss: {test_loss.item():.4f}\") "
   ]
  },
  {
   "cell_type": "code",
   "execution_count": 21,
   "id": "faa52ec7",
   "metadata": {},
   "outputs": [],
   "source": [
    "df_test=pd.DataFrame(val_outputs.numpy())\n",
    "df_y = pd.DataFrame(y_test.numpy())\n",
    "df_y=df_y.transpose()\n",
    "df_test=df_test.transpose()"
   ]
  },
  {
   "cell_type": "code",
   "execution_count": 22,
   "id": "f5adecab",
   "metadata": {},
   "outputs": [
    {
     "name": "stdout",
     "output_type": "stream",
     "text": [
      "R2 score: -1.6196620349296111\n"
     ]
    }
   ],
   "source": [
    "r2 = r2_score(df_y[0], df_test[0])\n",
    "print(\"R2 score:\", r2)"
   ]
  },
  {
   "cell_type": "code",
   "execution_count": 25,
   "id": "8ccad9a1",
   "metadata": {},
   "outputs": [
    {
     "data": {
      "text/plain": [
       "<AxesSubplot:>"
      ]
     },
     "execution_count": 25,
     "metadata": {},
     "output_type": "execute_result"
    },
    {
     "data": {
      "image/png": "[encoded data removed]",
      "text/plain": [
       "<Figure size 640x480 with 1 Axes>"
      ]
     },
     "metadata": {},
     "output_type": "display_data"
    }
   ],
   "source": [
    "sb.lineplot(data=g_losses)\n",
    "sb.lineplot(data=d_losses)"
   ]
  },
  {
   "cell_type": "code",
   "execution_count": null,
   "id": "41fc52dc",
   "metadata": {},
   "outputs": [],
   "source": []
  }
 ],
 "metadata": {
  "kernelspec": {
   "display_name": "Python 3 (ipykernel)",
   "language": "python",
   "name": "python3"
  },
  "language_info": {
   "codemirror_mode": {
    "name": "ipython",
    "version": 3
   },
   "file_extension": ".py",
   "mimetype": "text/x-python",
   "name": "python",
   "nbconvert_exporter": "python",
   "pygments_lexer": "ipython3",
   "version": "3.9.13"
  }
 },
 "nbformat": 4,
 "nbformat_minor": 5
}
