{
 "cells": [
  {
   "cell_type": "code",
   "execution_count": 1,
   "id": "0fbc309f-cc21-4eab-b90b-9a316a4a7a46",
   "metadata": {
    "tags": []
   },
   "outputs": [
    {
     "name": "stdout",
     "output_type": "stream",
     "text": [
      "Using cuda device\n"
     ]
    }
   ],
   "source": [
    "# Loading in libraries necessary for CNN\n",
    "import torch\n",
    "import torch.nn as nn\n",
    "import numpy as np\n",
    "import os\n",
    "import glob\n",
    "from torch.utils.data import Dataset, DataLoader, TensorDataset\n",
    "import pandas as pd\n",
    "from torch.nn import Linear, ReLU, CrossEntropyLoss, Sequential, Conv2d, MaxPool2d, Module, Softmax, BatchNorm2d, Dropout\n",
    "from torch.optim import Adam, SGD\n",
    "from sklearn.model_selection import train_test_split\n",
    "import math\n",
    "import matplotlib.pyplot as plt\n",
    "import time\n",
    "\n",
    "# whether to run on GPU or CPU\n",
    "device = torch.device('cuda' if torch.cuda.is_available() else 'cpu')\n",
    "print(f\"Using {device} device\")\n"
   ]
  },
  {
   "cell_type": "code",
   "execution_count": 2,
   "id": "c766a858-8740-45da-8d9d-2776f23633d0",
   "metadata": {
    "tags": []
   },
   "outputs": [
    {
     "name": "stdout",
     "output_type": "stream",
     "text": [
      "Total number of files:  10000\n"
     ]
    }
   ],
   "source": [
    "files = glob.glob('./Spectral_Data/spectral_data/1200MHz/*.csv')\n",
    "print('Total number of files: ', len(files))"
   ]
  },
  {
   "cell_type": "markdown",
   "id": "b13bcae0-0c7f-451e-9cf8-1158cd036411",
   "metadata": {},
   "source": [
    "Establishing a Dataloader for 1200MHz dataset"
   ]
  },
  {
   "cell_type": "code",
   "execution_count": 3,
   "id": "d1db4476-3487-45a3-966f-82dc26c48883",
   "metadata": {
    "tags": []
   },
   "outputs": [],
   "source": [
    "class GHzData(Dataset):\n",
    "    def __init__(self):\n",
    "        # Data loading\n",
    "        self.df = pd.concat(map(pd.read_csv, glob.glob(os.path.join('./Spectral_Data/spectral_data/1200MHz', \n",
    "                                                       'spectral_data_*.csv'))),ignore_index=True)\n",
    "       \n",
    "        self.df = self.df.drop(self.df.columns[0], axis=1).to_numpy()\n",
    "        self.x = torch.from_numpy(self.df[:,:2]).float()\n",
    "        self.y = torch.from_numpy(self.df[:,2:4]).float()\n",
    "        self.num_samples = self.df.shape[0]\n",
    "\n",
    "    def __getitem__(self, index):\n",
    "        return self.x[index], self.y[index]\n",
    "    \n",
    "    def __len__(self):\n",
    "        return self.num_samples\n",
    "    \n",
    "  "
   ]
  },
  {
   "cell_type": "code",
   "execution_count": 4,
   "id": "6fa2783c-52b0-416d-bf38-3930f8ef03a3",
   "metadata": {
    "tags": []
   },
   "outputs": [],
   "source": [
    "class NeuralNetwork(nn.Module):\n",
    "    def __init__(self):\n",
    "        super(NeuralNetwork, self).__init__()\n",
    "        self.fc1 = nn.Linear(2,5) # input layer to hidden\n",
    "        self.relu = nn.ReLU() # activation function\n",
    "        self.fc2 = nn.Linear(5,2) # input layer to output\n",
    "            \n",
    "    def forward(self, x):\n",
    "        x = self.fc1(x)\n",
    "        x = self.relu(x)\n",
    "        x = self.fc2(x)\n",
    "        return x"
   ]
  },
  {
   "cell_type": "code",
   "execution_count": 5,
   "id": "25ba8f93-ba38-4c86-a0c9-5a3bf1ab46ce",
   "metadata": {
    "tags": []
   },
   "outputs": [],
   "source": [
    "model = NeuralNetwork()"
   ]
  },
  {
   "cell_type": "code",
   "execution_count": 6,
   "id": "b074adcf-0cd6-44d5-b922-dfd32bba832e",
   "metadata": {
    "tags": []
   },
   "outputs": [],
   "source": [
    "# Establishing and loading data into notebook\n",
    "dataset = GHzData()\n",
    "\n",
    "#Splitting the data\n",
    "train_X, test_X, train_y, test_y = train_test_split(dataset.x, dataset.y,\n",
    "                                                    test_size=0.2)\n",
    "\n",
    "# Creating datasets\n",
    "train_dataset = TensorDataset(train_X, train_y)\n",
    "test_dataset = TensorDataset(test_X, test_y)\n",
    "\n",
    "train_dataloader = DataLoader(train_dataset, batch_size=64, shuffle=True)\n",
    "test_dataloader = DataLoader(test_dataset, batch_size=64, shuffle=True)"
   ]
  },
  {
   "cell_type": "code",
   "execution_count": 7,
   "id": "4ab267e0-afa6-498a-ac2c-8a6afebcfa5d",
   "metadata": {
    "tags": []
   },
   "outputs": [],
   "source": [
    "criterion = nn.MSELoss()"
   ]
  },
  {
   "cell_type": "code",
   "execution_count": 8,
   "id": "767eae75-b1ed-4f08-9c57-f4c34b7ea141",
   "metadata": {
    "tags": []
   },
   "outputs": [],
   "source": [
    "optimizer = SGD(model.parameters(), lr=0.001)"
   ]
  },
  {
   "cell_type": "code",
   "execution_count": 9,
   "id": "8c7e95e4-fc5d-4a2c-939f-a00869141f5d",
   "metadata": {},
   "outputs": [],
   "source": [
    "num_epochs = 3"
   ]
  },
  {
   "cell_type": "code",
   "execution_count": 10,
   "id": "d5bce730-4781-4662-9b2d-d699fca5b95b",
   "metadata": {
    "tags": []
   },
   "outputs": [
    {
     "name": "stdout",
     "output_type": "stream",
     "text": [
      "Epoch 1 loss: 0.0403\n",
      "Time Elapsed: 1737.89351 seconds\n"
     ]
    }
   ],
   "source": [
    "# Training loop for model with epoch loss as output\n",
    "\n",
    "x = time.time()\n",
    "\n",
    "for e in range(num_epochs):\n",
    "    running_loss = 0.0\n",
    "    for inputs, labels in train_dataloader:\n",
    "        optimizer.zero_grad()\n",
    "        outputs = model(inputs)\n",
    "        loss = criterion(outputs, labels)\n",
    "        loss.backward()\n",
    "        optimizer.step()\n",
    "        running_loss += loss.item() * inputs.size(0)\n",
    "    epoch_loss = running_loss / len(train_dataloader.dataset)\n",
    "    \n",
    "    if(int(e) % 10) == 0:\n",
    "        \n",
    "        print(f'Epoch {e+1} loss: {epoch_loss:.4f}')\n",
    "\n",
    "print(f'Time Elapsed: {round(time.time()-x, 5)} seconds')    "
   ]
  },
  {
   "cell_type": "code",
   "execution_count": 11,
   "id": "9c344731-cb9e-47f7-a9ea-fff4b258bef6",
   "metadata": {
    "tags": []
   },
   "outputs": [],
   "source": [
    "# Evaluating Model Performance\n",
    "\n",
    "model.eval() # Model to evaluation mode\n",
    "\n",
    "total_loss = 0.0\n",
    "total_correct = 0\n",
    "\n",
    "# Loop for testing\n",
    "for inputs, labels in test_dataloader:\n",
    "    #Forward pass\n",
    "    outputs = model(inputs)\n",
    "    total_loss += loss.item() * inputs.size(0)\n",
    "    \n",
    "    _, labels = torch.max(labels,1)\n",
    "    _, predicts = torch.max(outputs.data, 1)\n",
    "    total_correct += (predicts == labels).sum().item()\n",
    "\n",
    "mean_loss = total_loss / len(test_dataset)\n",
    "accuracy = (total_correct / len(test_dataset))*100\n",
    "\n"
   ]
  },
  {
   "cell_type": "code",
   "execution_count": 12,
   "id": "bf4e3c43-bc4a-4cbf-a608-27eafa926c99",
   "metadata": {
    "tags": []
   },
   "outputs": [
    {
     "name": "stdout",
     "output_type": "stream",
     "text": [
      " Mean Loss of Function: 0.006529996171593666, Accuracy: 99.9229090909091\n"
     ]
    }
   ],
   "source": [
    "print(f' Mean Loss of Function: {mean_loss}, Accuracy: {accuracy}')"
   ]
  },
  {
   "cell_type": "code",
   "execution_count": 13,
   "id": "4b81757e-bcf7-4219-9277-19850d0edb55",
   "metadata": {
    "tags": []
   },
   "outputs": [
    {
     "data": {
      "text/html": [
       "<div>\n",
       "<style scoped>\n",
       "    .dataframe tbody tr th:only-of-type {\n",
       "        vertical-align: middle;\n",
       "    }\n",
       "\n",
       "    .dataframe tbody tr th {\n",
       "        vertical-align: top;\n",
       "    }\n",
       "\n",
       "    .dataframe thead th {\n",
       "        text-align: right;\n",
       "    }\n",
       "</style>\n",
       "<table border=\"1\" class=\"dataframe\">\n",
       "  <thead>\n",
       "    <tr style=\"text-align: right;\">\n",
       "      <th></th>\n",
       "      <th>0</th>\n",
       "      <th>1</th>\n",
       "    </tr>\n",
       "  </thead>\n",
       "  <tbody>\n",
       "    <tr>\n",
       "      <th>0</th>\n",
       "      <td>8.859688</td>\n",
       "      <td>0.027577</td>\n",
       "    </tr>\n",
       "    <tr>\n",
       "      <th>1</th>\n",
       "      <td>3.808775</td>\n",
       "      <td>0.032654</td>\n",
       "    </tr>\n",
       "    <tr>\n",
       "      <th>2</th>\n",
       "      <td>8.429623</td>\n",
       "      <td>0.028318</td>\n",
       "    </tr>\n",
       "    <tr>\n",
       "      <th>3</th>\n",
       "      <td>9.861869</td>\n",
       "      <td>0.026569</td>\n",
       "    </tr>\n",
       "    <tr>\n",
       "      <th>4</th>\n",
       "      <td>8.085548</td>\n",
       "      <td>0.028355</td>\n",
       "    </tr>\n",
       "    <tr>\n",
       "      <th>...</th>\n",
       "      <td>...</td>\n",
       "      <td>...</td>\n",
       "    </tr>\n",
       "    <tr>\n",
       "      <th>59</th>\n",
       "      <td>1.960441</td>\n",
       "      <td>0.034517</td>\n",
       "    </tr>\n",
       "    <tr>\n",
       "      <th>60</th>\n",
       "      <td>3.468713</td>\n",
       "      <td>0.032996</td>\n",
       "    </tr>\n",
       "    <tr>\n",
       "      <th>61</th>\n",
       "      <td>0.616198</td>\n",
       "      <td>0.035863</td>\n",
       "    </tr>\n",
       "    <tr>\n",
       "      <th>62</th>\n",
       "      <td>6.783312</td>\n",
       "      <td>0.029664</td>\n",
       "    </tr>\n",
       "    <tr>\n",
       "      <th>63</th>\n",
       "      <td>8.621650</td>\n",
       "      <td>0.027952</td>\n",
       "    </tr>\n",
       "  </tbody>\n",
       "</table>\n",
       "<p>64 rows × 2 columns</p>\n",
       "</div>"
      ],
      "text/plain": [
       "           0         1\n",
       "0   8.859688  0.027577\n",
       "1   3.808775  0.032654\n",
       "2   8.429623  0.028318\n",
       "3   9.861869  0.026569\n",
       "4   8.085548  0.028355\n",
       "..       ...       ...\n",
       "59  1.960441  0.034517\n",
       "60  3.468713  0.032996\n",
       "61  0.616198  0.035863\n",
       "62  6.783312  0.029664\n",
       "63  8.621650  0.027952\n",
       "\n",
       "[64 rows x 2 columns]"
      ]
     },
     "execution_count": 13,
     "metadata": {},
     "output_type": "execute_result"
    }
   ],
   "source": [
    "model.eval()\n",
    "with torch.no_grad():\n",
    "    for inputs, _ in test_dataloader:\n",
    "        predictions = model(inputs)\n",
    "\n",
    "predictions_numpy = predictions.numpy()\n",
    "pred = pd.DataFrame(predictions_numpy)\n",
    "pred"
   ]
  },
  {
   "cell_type": "code",
   "execution_count": 14,
   "id": "32c4a778-ca99-40c3-8788-399b1deb9e50",
   "metadata": {
    "tags": []
   },
   "outputs": [
    {
     "data": {
      "image/png": "[encoded data removed]",
      "text/plain": [
       "<Figure size 640x480 with 1 Axes>"
      ]
     },
     "metadata": {},
     "output_type": "display_data"
    }
   ],
   "source": [
    "x = predictions_numpy[:, 0]\n",
    "y = predictions_numpy[:, 1]\n",
    "\n",
    "fig = plt.scatter(x,y)"
   ]
  },
  {
   "cell_type": "code",
   "execution_count": 15,
   "id": "dba944d7-8ac9-4aa2-a4f6-ec8b2fe3b57b",
   "metadata": {
    "tags": []
   },
   "outputs": [
    {
     "ename": "NameError",
     "evalue": "name 'train_losses' is not defined",
     "output_type": "error",
     "traceback": [
      "\u001b[0;31m---------------------------------------------------------------------------\u001b[0m",
      "\u001b[0;31mNameError\u001b[0m                                 Traceback (most recent call last)",
      "\u001b[0;32m/tmp/ipykernel_23616/2649946721.py\u001b[0m in \u001b[0;36m<module>\u001b[0;34m\u001b[0m\n\u001b[1;32m      1\u001b[0m \u001b[0;31m# plotting the training and validation loss\u001b[0m\u001b[0;34m\u001b[0m\u001b[0;34m\u001b[0m\u001b[0;34m\u001b[0m\u001b[0m\n\u001b[0;32m----> 2\u001b[0;31m \u001b[0mplt\u001b[0m\u001b[0;34m.\u001b[0m\u001b[0mplot\u001b[0m\u001b[0;34m(\u001b[0m\u001b[0mtrain_losses\u001b[0m\u001b[0;34m,\u001b[0m \u001b[0mlabel\u001b[0m\u001b[0;34m=\u001b[0m\u001b[0;34m'Training loss'\u001b[0m\u001b[0;34m)\u001b[0m\u001b[0;34m\u001b[0m\u001b[0;34m\u001b[0m\u001b[0m\n\u001b[0m\u001b[1;32m      3\u001b[0m \u001b[0mplt\u001b[0m\u001b[0;34m.\u001b[0m\u001b[0mplot\u001b[0m\u001b[0;34m(\u001b[0m\u001b[0mval_losses\u001b[0m\u001b[0;34m,\u001b[0m \u001b[0mlabel\u001b[0m\u001b[0;34m=\u001b[0m\u001b[0;34m'Validation loss'\u001b[0m\u001b[0;34m)\u001b[0m\u001b[0;34m\u001b[0m\u001b[0;34m\u001b[0m\u001b[0m\n\u001b[1;32m      4\u001b[0m \u001b[0mplt\u001b[0m\u001b[0;34m.\u001b[0m\u001b[0mlegend\u001b[0m\u001b[0;34m(\u001b[0m\u001b[0;34m)\u001b[0m\u001b[0;34m\u001b[0m\u001b[0;34m\u001b[0m\u001b[0m\n\u001b[1;32m      5\u001b[0m \u001b[0mplt\u001b[0m\u001b[0;34m.\u001b[0m\u001b[0mshow\u001b[0m\u001b[0;34m(\u001b[0m\u001b[0;34m)\u001b[0m\u001b[0;34m\u001b[0m\u001b[0;34m\u001b[0m\u001b[0m\n",
      "\u001b[0;31mNameError\u001b[0m: name 'train_losses' is not defined"
     ]
    }
   ],
   "source": [
    "# plotting the training and validation loss\n",
    "plt.plot(train_losses, label='Training loss')\n",
    "plt.plot(val_losses, label='Validation loss')\n",
    "plt.legend()\n",
    "plt.show()"
   ]
  },
  {
   "cell_type": "code",
   "execution_count": null,
   "id": "6ebb0953-0686-41e8-872c-9672a6de63de",
   "metadata": {},
   "outputs": [],
   "source": []
  }
 ],
 "metadata": {
  "kernelspec": {
   "display_name": "Python 3 (ipykernel)",
   "language": "python",
   "name": "python3"
  },
  "language_info": {
   "codemirror_mode": {
    "name": "ipython",
    "version": 3
   },
   "file_extension": ".py",
   "mimetype": "text/x-python",
   "name": "python",
   "nbconvert_exporter": "python",
   "pygments_lexer": "ipython3",
   "version": "3.7.7"
  }
 },
 "nbformat": 4,
 "nbformat_minor": 5
}
