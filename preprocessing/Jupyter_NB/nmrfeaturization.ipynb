{
 "cells": [
  {
   "cell_type": "markdown",
   "metadata": {},
   "source": [
    "import pandas as pd\n",
    "import os\n",
    "import numpy as np\n",
    "This sheets converts the individual NMR Spectra data into featurization sheets\n",
    "1. Read all the files.\n",
    "2. Take the Y values of res_2 MHz and fill the data into column vectors\n",
    "3. Take the X values of res_2 MHz and create column vectors\n",
    "4. Run it for all the files in the directory\n",
    "5. Take the final dataframe and save it as csv\n",
    "6. Do it for both res_2 MHz and res_1 MHz"
   ]
  },
  {
   "cell_type": "code",
   "execution_count": 18,
   "metadata": {
    "tags": []
   },
   "outputs": [],
   "source": [
    "import pandas as pd\n",
    "import os\n",
    "import numpy as np\n",
    "import glob\n"
   ]
  },
  {
   "cell_type": "code",
   "execution_count": 22,
   "metadata": {
    "tags": []
   },
   "outputs": [],
   "source": [
    "# Change these variables to change resolutions of spectral target\n",
    "# Notation is typically: res_1=higher and res_2=lower (integer input)\n",
    "res_1 = 1200\n",
    "res_2 = 60\n"
   ]
  },
  {
   "cell_type": "code",
   "execution_count": 20,
   "metadata": {
    "tags": []
   },
   "outputs": [
    {
     "data": {
      "text/plain": [
       "['spectral_data/1200MHz/spectral_data_05_00005.csv',\n",
       " 'spectral_data/1200MHz/spectral_data_07_00007.csv',\n",
       " 'spectral_data/1200MHz/spectral_data_09_00002.csv',\n",
       " 'spectral_data/1200MHz/spectral_data_10_00008.csv',\n",
       " 'spectral_data/1200MHz/spectral_data_10_00009.csv',\n",
       " 'spectral_data/1200MHz/spectral_data_13_00006.csv',\n",
       " 'spectral_data/1200MHz/spectral_data_14_00000.csv',\n",
       " 'spectral_data/1200MHz/spectral_data_14_00004.csv',\n",
       " 'spectral_data/1200MHz/spectral_data_16_00001.csv',\n",
       " 'spectral_data/1200MHz/spectral_data_16_00003.csv']"
      ]
     },
     "execution_count": 20,
     "metadata": {},
     "output_type": "execute_result"
    }
   ],
   "source": [
    "ofilenames = glob.glob(f\"spectral_data/{res_1}MHz/*.csv\")\n",
    "ofilenames.sort()\n",
    "ofilenames"
   ]
  },
  {
   "cell_type": "code",
   "execution_count": 21,
   "metadata": {},
   "outputs": [],
   "source": [
    "data_temp=pd.read_csv(ofilenames[0])\n",
    "df_res_2 = np.zeros(shape=(len(ofilenames), len(data_temp.index)))\n",
    "df_res_1 = np.zeros(shape=(len(ofilenames), len(data_temp.index)))\n",
    "\n",
    "x= data_temp[f\"{res_1}MHz_ppm\"].to_numpy()\n",
    "\n",
    "for index, f in enumerate(ofilenames):\n",
    "    data=pd.read_csv(f)\n",
    "    df_res_2[index]=data[f\"{res_2}MHz_intensity\"].to_numpy()\n",
    "    df_res_1[index]=data[f\"{res_1}MHz_intensity\"].to_numpy()\n",
    "dfres_2 = pd.DataFrame(df_res_2,columns=x)\n",
    "dfres_1 = pd.DataFrame(df_res_1,columns=x)\n",
    "dfres_2.to_csv(f\"spectral_data/{res_1}MHz/*.csv\", index=False)\n",
    "dfres_1.to_csv(f\"spectral_data/{res_1}MHz/*.csv\", index=False)\n",
    "# For loop, read each file, get the array and append it as a row into two dataframes\n",
    "\n"
   ]
  },
  {
   "cell_type": "code",
   "execution_count": null,
   "metadata": {},
   "outputs": [],
   "source": []
  }
 ],
 "metadata": {
  "kernelspec": {
   "display_name": "Python 3 (ipykernel)",
   "language": "python",
   "name": "python3"
  },
  "language_info": {
   "codemirror_mode": {
    "name": "ipython",
    "version": 3
   },
   "file_extension": ".py",
   "mimetype": "text/x-python",
   "name": "python",
   "nbconvert_exporter": "python",
   "pygments_lexer": "ipython3",
   "version": "3.7.5"
  },
  "vscode": {
   "interpreter": {
    "hash": "f78ddf28f4a588da57f6ed6ba1a47fc70eb4491e93f9479eaaf5e051fa16bdf1"
   }
  }
 },
 "nbformat": 4,
 "nbformat_minor": 4
}
