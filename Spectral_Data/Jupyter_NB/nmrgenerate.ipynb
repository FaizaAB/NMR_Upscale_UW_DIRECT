{
 "cells": [
  {
   "cell_type": "code",
   "execution_count": 69,
   "metadata": {},
   "outputs": [],
   "source": [
    "# Here we import all the necessary libraries to generate NMR spectra\n",
    "import matplotlib.pyplot as plt\n",
    "from nmrsim import Multiplet\n",
    "from random import randint, uniform\n",
    "import pandas"
   ]
  },
  {
   "cell_type": "code",
   "execution_count": 75,
   "metadata": {
    "tags": []
   },
   "outputs": [],
   "source": [
    "# Change these variables to change resolutions of spectra generate\n",
    "# Notation is typically: res_1=higher and res_2=lower (integer input)\n",
    "res_1=1200\n",
    "res_2=60"
   ]
  },
  {
   "cell_type": "code",
   "execution_count": 76,
   "metadata": {},
   "outputs": [],
   "source": [
    "# Function to generate NMR signals based on input argument of spectrometer freq\n",
    "def NMR_Signal_Generator(spectrometer_frequencies):\n",
    "    '''\n",
    "    Takes input of list of 2 spectrometer frequencies in list format and\n",
    "    generates a list of NMR signals using nmrsim library. An NMR signal given\n",
    "    by this function is described by 1-4 (random), a 2Hz linewidth, a chemical\n",
    "    shift from 0.5 to 9, a J coupling of 3 to 15Hz, a multiplicity of 0 to 5\n",
    "    \n",
    "    Parameters\n",
    "    ----------\n",
    "        spectrometer_frequencies: List\n",
    "            List of 2 spectrometer frequencies\n",
    "            \n",
    "    Output\n",
    "    -------\n",
    "        signals_list: List\n",
    "            List of NMR signals of the two resolutions\n",
    "    \n",
    "    \n",
    "    '''\n",
    "    # Assigning number of protons defined by peak integral\n",
    "    integral = randint(1,4)\n",
    "    #Assigning the linewidth of an NMR peak in the spectrum\n",
    "    linewidth_hz = 2\n",
    "    # Randomly return a floating point chemical shift assignment\n",
    "    chemical_shift = uniform(0.5,9)\n",
    "    # Randomly return a floating point coupling (J coupling) frequency\n",
    "    coupling = uniform(3,15)\n",
    "    # Randomly select a multiplicity (peak splitting)\n",
    "    multiplicity = randint(0,5)\n",
    "    # Generate a list of NMR signals using the Multiplet function of nmrsim\n",
    "    signals_list = [(Multiplet(chemical_shift * frequency, integral, \n",
    "                               [(coupling,multiplicity)], linewidth_hz)) for \n",
    "                                frequency in spectrometer_frequencies]\n",
    "    return signals_list"
   ]
  },
  {
   "cell_type": "code",
   "execution_count": 77,
   "metadata": {},
   "outputs": [],
   "source": [
    "def create_random_spectra(num_peaks, res_1, res_2):\n",
    "    '''\n",
    "    Creates random NMR spectra given number of peaks desired, resolution 1\n",
    "    and resolution 2\n",
    "    \n",
    "    Parameters\n",
    "    -----------\n",
    "        num_peaks: int\n",
    "            Number of peaks in random spectrum\n",
    "        res_1: int\n",
    "            First desired resolution in MHz\n",
    "        res_2: int\n",
    "            Second desired resolution in MHz\n",
    "    \n",
    "    Output\n",
    "    -------\n",
    "        x_res_1: float\n",
    "            Chemical shift in ppm of spectrum 1\n",
    "        y_res_1: float\n",
    "            Intensity of spectrum 1\n",
    "        x_res_2: float\n",
    "            Chemical shift in ppm of spectrum 2\n",
    "        y_res_2: float\n",
    "            Intensity of spectrum\n",
    "    \n",
    "\n",
    "    '''\n",
    "    # Assigns desired NMR frequencies to a list\n",
    "    spectrometer_frequencies = [res_1,res_2]\n",
    "    # Creates blank dataframe with desired NMR frequencies column\n",
    "    spectral_data = pandas.DataFrame(columns=[f'{str(res_1)}MHz', f'{str(res_2)}MHz'])\n",
    "    \n",
    "    # Generates NMR Signals from NMRSIM using established list, generates\n",
    "    # spectra and puts them in spectral_data frame\n",
    "    for i in range(0,num_peaks):\n",
    "        signals_list = NMR_Signal_Generator(spectrometer_frequencies)\n",
    "        spectral_data.loc[len(spectral_data)] = signals_list\n",
    "\n",
    "    # Defines spectrum object, from Multiplet class\n",
    "    # Multiplets taken from spectral_data frequency df\n",
    "    spectrum_res_1 = Multiplet(0,0.5,[],2) \n",
    "    for multiplet in spectral_data[f'{str(res_1)}MHz']:\n",
    "        spectrum_res_1 += multiplet\n",
    "        \n",
    "    # Process repeated for other frequency\n",
    "    spectrum_res_2 = Multiplet(0,0.5,[],2)\n",
    "    for multiplet in spectral_data[f'{str(res_2)}MHz']:\n",
    "        spectrum_res_2 += multiplet\n",
    "    \n",
    "    # Normalize the spectrometer frequencies and have n number of points on plots\n",
    "    spectrum_res_1.vmin = -0.5 * spectrometer_frequencies[0]\n",
    "    spectrum_res_1.vmax = 10.5 * spectrometer_frequencies[0]\n",
    "    x_res_1, y_res_1 = spectrum_res_1.lineshape(points=5500)\n",
    "\n",
    "    spectrum_res_2.vmin = -0.5 * spectrometer_frequencies[1]\n",
    "    spectrum_res_2.vmax = 10.5 * spectrometer_frequencies[1]\n",
    "    x_res_2, y_res_2 = spectrum_res_2.lineshape(points=5500)\n",
    "\n",
    "    return x_res_1, y_res_1, x_res_2, y_res_2\n"
   ]
  },
  {
   "cell_type": "code",
   "execution_count": 78,
   "metadata": {},
   "outputs": [],
   "source": [
    "def write_nmr_spectra(index, num_peaks, x_res_1, y_res_1, x_res_2, y_res_2, res_1, res_2):\n",
    "    '''\n",
    "    Writes generated NMR spectra to csv files\n",
    "    \n",
    "    Parameters\n",
    "    -----------\n",
    "        index: int\n",
    "            Label as integer of NMR spectrum generated in a series\n",
    "        num_peaks: int\n",
    "            Specifies how many peaks are desired in spectrum\n",
    "        x_res_1: float\n",
    "            Output of write spectrum, chemical shift of spectrum 1\n",
    "        x_res_2: float\n",
    "            Output of write spectrum, chemical shift of spectrum 2\n",
    "        y_res_1: float\n",
    "            Output of write spectrum, intensity of spectrum 1\n",
    "        y_res_2: float\n",
    "            Output of write spectrum, intensity of spectrum 2\n",
    "        res_1: int\n",
    "            Resolution in MHz of spectrum 1\n",
    "        res_2: int\n",
    "            Resolution in MHz of spectrum 2\n",
    "    \n",
    "    Output\n",
    "    -------\n",
    "        filename: csv\n",
    "            A csv containing the x, y data of spectra 1 and 2\n",
    "    \n",
    "    \n",
    "    '''\n",
    "    # Saving data to file\n",
    "    sf = [res_1,res_2]\n",
    "    x_ppm_res_1 = x_res_1/sf[0]\n",
    "    x_ppm_res_2 = x_res_2/sf[1]\n",
    "    spectral_data = pandas.DataFrame(columns=[f'{str(res_1)}MHz_ppm',\n",
    "                                        f'{str(res_1)}MHz_intensity', \n",
    "                                        f'{str(res_2)}MHz_ppm',\n",
    "                                        f'{str(res_2)}MHz_intensity'])\n",
    "    spectral_data[f'{str(res_1)}MHz_ppm'] = x_ppm_res_1\n",
    "    spectral_data[f'{str(res_1)}Hz_intensity'] = y_res_1\n",
    "    spectral_data[f'{str(res_2)}MHz_ppm'] = x_ppm_res_2\n",
    "    spectral_data[f'{str(res_2)}MHz_intensity'] = y_res_2\n",
    "    filename=f\"spectral_data/{str(res_1)}MHz/\"+\"spectral_data\"+ \"_\"+str(num_peaks).zfill(2)+ \"_\" +str(index).zfill(5)+\".csv\"\n",
    "    print(filename)\n",
    "    spectral_data.to_csv(filename)"
   ]
  },
  {
   "cell_type": "code",
   "execution_count": 73,
   "metadata": {},
   "outputs": [],
   "source": [
    "import time"
   ]
  },
  {
   "cell_type": "code",
   "execution_count": 79,
   "metadata": {
    "tags": []
   },
   "outputs": [
    {
     "name": "stdout",
     "output_type": "stream",
     "text": [
      "spectral_data/1200MHz/spectral_data_14_00000.csv\n",
      "spectral_data/1200MHz/spectral_data_16_00001.csv\n",
      "spectral_data/1200MHz/spectral_data_09_00002.csv\n",
      "spectral_data/1200MHz/spectral_data_16_00003.csv\n",
      "spectral_data/1200MHz/spectral_data_14_00004.csv\n",
      "spectral_data/1200MHz/spectral_data_05_00005.csv\n",
      "spectral_data/1200MHz/spectral_data_13_00006.csv\n",
      "spectral_data/1200MHz/spectral_data_07_00007.csv\n",
      "spectral_data/1200MHz/spectral_data_10_00008.csv\n",
      "spectral_data/1200MHz/spectral_data_10_00009.csv\n",
      "Time Elapsed: 0.8415 seconds\n"
     ]
    }
   ],
   "source": [
    "# num_peaks = Number of Peaks that you want in your spectra\n",
    "# j = how many spectra do you want.\n",
    "x = time.time()\n",
    "\n",
    "for j in range (0,10):\n",
    "    num_peaks = randint(5,16)\n",
    "    #print(num_peaks)\n",
    "    x_res_1, y_res_1, x_res_2, y_res_2 = create_random_spectra(num_peaks, res_1, res_2)\n",
    "    write_nmr_spectra(j, num_peaks, x_res_1, y_res_1, x_res_2, y_res_2, res_1, res_2)\n",
    "\n",
    "print(f'Time Elapsed: {round(time.time()-x, 5)} seconds')    "
   ]
  },
  {
   "cell_type": "code",
   "execution_count": null,
   "metadata": {},
   "outputs": [],
   "source": []
  }
 ],
 "metadata": {
  "kernelspec": {
   "display_name": "Python 3 (ipykernel)",
   "language": "python",
   "name": "python3"
  },
  "language_info": {
   "codemirror_mode": {
    "name": "ipython",
    "version": 3
   },
   "file_extension": ".py",
   "mimetype": "text/x-python",
   "name": "python",
   "nbconvert_exporter": "python",
   "pygments_lexer": "ipython3",
   "version": "3.7.5"
  },
  "vscode": {
   "interpreter": {
    "hash": "f78ddf28f4a588da57f6ed6ba1a47fc70eb4491e93f9479eaaf5e051fa16bdf1"
   }
  }
 },
 "nbformat": 4,
 "nbformat_minor": 4
}
