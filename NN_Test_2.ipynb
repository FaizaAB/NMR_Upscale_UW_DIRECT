{
 "cells": [
  {
   "cell_type": "code",
   "execution_count": 1,
   "id": "0fbc309f-cc21-4eab-b90b-9a316a4a7a46",
   "metadata": {
    "tags": []
   },
   "outputs": [
    {
     "name": "stdout",
     "output_type": "stream",
     "text": [
      "Using cuda device\n",
      "NVIDIA GeForce RTX 3060 Laptop GPU\n"
     ]
    }
   ],
   "source": [
    "# Loading in libraries necessary for CNN\n",
    "import torch\n",
    "import torch.nn as nn\n",
    "import numpy as np\n",
    "import os\n",
    "import glob\n",
    "from torch.utils.data import Dataset, DataLoader, TensorDataset\n",
    "import pandas as pd\n",
    "from torch.nn import Linear, ReLU, CrossEntropyLoss, Sequential, Conv2d, MaxPool2d, Module, Softmax, BatchNorm2d, Dropout\n",
    "from torch.optim import Adam, SGD, Adagrad, RMSprop, SparseAdam, LBFGS, Adadelta\n",
    "from sklearn.model_selection import train_test_split\n",
    "import math\n",
    "import matplotlib.pyplot\n",
    "import time\n",
    "import torch.nn.functional as F\n",
    "import nmrsim\n",
    "from nmrsim import plt\n",
    "from itertools import product\n",
    "\n",
    "# whether to run on GPU or CPU\n",
    "device = torch.device('cuda' if torch.cuda.is_available() else 'cpu')\n",
    "print(f\"Using {device} device\")\n",
    "print(torch.cuda.get_device_name(0))"
   ]
  },
  {
   "cell_type": "code",
   "execution_count": 2,
   "id": "c766a858-8740-45da-8d9d-2776f23633d0",
   "metadata": {
    "tags": []
   },
   "outputs": [
    {
     "name": "stdout",
     "output_type": "stream",
     "text": [
      "Total number of files:  2000\n"
     ]
    }
   ],
   "source": [
    "files = glob.glob('./Spectral_Data/spectral_data/1200MHz/*.csv')\n",
    "print('Total number of files: ', len(files))"
   ]
  },
  {
   "cell_type": "markdown",
   "id": "b13bcae0-0c7f-451e-9cf8-1158cd036411",
   "metadata": {},
   "source": [
    "Establishing a Dataloader for 1200MHz dataset"
   ]
  },
  {
   "cell_type": "code",
   "execution_count": 3,
   "id": "d1db4476-3487-45a3-966f-82dc26c48883",
   "metadata": {
    "tags": []
   },
   "outputs": [],
   "source": [
    "class GHzData(Dataset):\n",
    "    def __init__(self):\n",
    "        # Data loading\n",
    "        self.files = glob.glob(os.path.join('./Spectral_Data/spectral_data/1200MHz', \n",
    "                                                       'spectral_data_*.csv'))\n",
    "\n",
    "        self.y_60 = []\n",
    "        self.y_1200 = []\n",
    "\n",
    "        for self.file in self.files:\n",
    "            self.df = pd.read_csv(self.file)\n",
    "            self.array_60 = self.df['60MHz_intensity'].to_numpy()\n",
    "            self.array_1200 = self.df['1200MHz_intensity'].to_numpy()\n",
    "            self.y_60.append(self.array_60)\n",
    "            self.y_1200.append(self.array_1200)\n",
    "            \n",
    "\n",
    "        self.tensor_60 = torch.Tensor(self.y_60).float().to(device)        \n",
    "\n",
    "        self.tensor_1200 = torch.Tensor(self.y_1200).float().to(device)\n",
    "        \n",
    "        self.num_samples = len(self.y_60)\n",
    "\n",
    "    def __getitem__(self, index):\n",
    "        return self.tensor_60[index], self.tensor_1200[index]\n",
    "    \n",
    "    def __len__(self):\n",
    "        return self.num_samples\n",
    "    \n",
    "  "
   ]
  },
  {
   "cell_type": "code",
   "execution_count": 4,
   "id": "4d27cd0c-1a07-4f1b-b957-b4bcec7c17a4",
   "metadata": {
    "tags": []
   },
   "outputs": [],
   "source": [
    "class NeuralNetwork(nn.Module):\n",
    "    def __init__(self):\n",
    "        super(NeuralNetwork, self).__init__()\n",
    "        self.fc1 = nn.Linear(5500,2250) # input layer to hidden\n",
    "        self.relu = nn.ReLU() # activation function\n",
    "        self.fc2 = nn.Linear(2250,1024) # input layer to output\n",
    "        self.fc3 = nn.Linear(1024,512)\n",
    "        self.fc4 = nn.Linear(512, 4000)\n",
    "        self.fc5 = nn.Linear(4000, 5500)\n",
    "            \n",
    "    def forward(self, x):\n",
    "        x = self.fc1(x)\n",
    "        x = self.relu(x)\n",
    "        x = self.fc2(x)\n",
    "        x = self.relu(x)\n",
    "        x = self.fc3(x)\n",
    "        x = self.relu(x)\n",
    "        x = self.fc4(x)\n",
    "        x = self.relu(x)\n",
    "        x = self.fc5(x)\n",
    "        return x"
   ]
  },
  {
   "cell_type": "code",
   "execution_count": 5,
   "id": "25ba8f93-ba38-4c86-a0c9-5a3bf1ab46ce",
   "metadata": {
    "tags": []
   },
   "outputs": [],
   "source": [
    "model = NeuralNetwork().to(device)"
   ]
  },
  {
   "cell_type": "code",
   "execution_count": 6,
   "id": "b074adcf-0cd6-44d5-b922-dfd32bba832e",
   "metadata": {
    "tags": []
   },
   "outputs": [
    {
     "name": "stderr",
     "output_type": "stream",
     "text": [
      "/home/garrettreinhard/miniconda3/envs/isotope/lib/python3.7/site-packages/ipykernel_launcher.py:18: UserWarning: Creating a tensor from a list of numpy.ndarrays is extremely slow. Please consider converting the list to a single numpy.ndarray with numpy.array() before converting to a tensor. (Triggered internally at ../torch/csrc/utils/tensor_new.cpp:230.)\n"
     ]
    }
   ],
   "source": [
    "# Establishing and loading data into notebook\n",
    "dataset = GHzData()\n",
    "\n",
    "#Splitting the data\n",
    "train_X, test_X, train_y, test_y = train_test_split(dataset.tensor_60, dataset.tensor_1200,\n",
    "                                                    test_size=0.2)\n",
    "\n",
    "# Creating datasets\n",
    "train_dataset = TensorDataset(train_X, train_y)\n",
    "test_dataset = TensorDataset(test_X, test_y)\n",
    "\n",
    "train_dataloader = DataLoader(train_dataset, batch_size=128, shuffle=True)\n",
    "test_dataloader = DataLoader(test_dataset, batch_size=128, shuffle=True)"
   ]
  },
  {
   "cell_type": "code",
   "execution_count": 7,
   "id": "4ab267e0-afa6-498a-ac2c-8a6afebcfa5d",
   "metadata": {
    "tags": []
   },
   "outputs": [],
   "source": [
    "criterion = nn.MSELoss()"
   ]
  },
  {
   "cell_type": "code",
   "execution_count": 8,
   "id": "767eae75-b1ed-4f08-9c57-f4c34b7ea141",
   "metadata": {
    "tags": []
   },
   "outputs": [],
   "source": [
    "#Adagrad and RMSprop seems to work ptetty well\n",
    "optimizer = RMSprop(model.parameters(), lr=0.0001)"
   ]
  },
  {
   "cell_type": "code",
   "execution_count": 9,
   "id": "8c7e95e4-fc5d-4a2c-939f-a00869141f5d",
   "metadata": {},
   "outputs": [],
   "source": [
    "num_epochs = 200"
   ]
  },
  {
   "cell_type": "code",
   "execution_count": 10,
   "id": "bb2ce1c1-e120-4675-a0f2-24db74a56a58",
   "metadata": {
    "tags": []
   },
   "outputs": [
    {
     "name": "stdout",
     "output_type": "stream",
     "text": [
      "Epoch 1 loss: 0.0003\n",
      "Epoch 101 loss: 0.0002\n",
      "Time Elapsed: 40.91132 seconds\n"
     ]
    }
   ],
   "source": [
    "x = time.time()\n",
    "\n",
    "for e in range(num_epochs):\n",
    "    running_loss = 0.0\n",
    "    for index, (inputs, labels) in enumerate(train_dataloader):\n",
    "        inputs = inputs.squeeze()\n",
    "        inputs = inputs.to(device)\n",
    "        labels = labels.to(device)\n",
    "        optimizer.zero_grad()\n",
    "        outputs = model(inputs)\n",
    "        loss = criterion(outputs, labels.squeeze())\n",
    "        loss.backward()\n",
    "        optimizer.step()\n",
    "        running_loss += loss.item() * inputs.size(0)\n",
    "    epoch_loss = running_loss / len(train_dataloader.dataset)\n",
    "    \n",
    "    if(int(e) % 100) == 0:\n",
    "        print(f'Epoch {e+1} loss: {epoch_loss:.4f}')\n",
    "\n",
    "print(f'Time Elapsed: {round(time.time()-x, 5)} seconds')"
   ]
  },
  {
   "cell_type": "code",
   "execution_count": 11,
   "id": "9c344731-cb9e-47f7-a9ea-fff4b258bef6",
   "metadata": {
    "tags": []
   },
   "outputs": [
    {
     "name": "stdout",
     "output_type": "stream",
     "text": [
      " Mean Loss of Function: 0.0003368433623109013, Accuracy: 1.25\n"
     ]
    }
   ],
   "source": [
    "# Evaluating Model Performance\n",
    "\n",
    "model.eval() # Model to evaluation mode\n",
    "\n",
    "test_loss = 0.0\n",
    "test_correct = 0\n",
    "test_total = 0\n",
    "\n",
    "# Loop for testing\n",
    "for inputs, labels in test_dataloader:\n",
    "    #Forward pass\n",
    "    inputs = inputs.squeeze()\n",
    "    outputs = model(inputs)\n",
    "    loss = criterion(outputs, labels)\n",
    "    test_loss += loss.item() * inputs.size(0)\n",
    "    \n",
    "    _, labels = torch.max(labels.squeeze(), 1)\n",
    "    _, predicts = torch.max(outputs.data, 1)\n",
    "    test_total += labels.size(0)\n",
    "    test_correct += (predicts == labels).sum().item()\n",
    "\n",
    "accuracy = (test_correct / test_total)*100\n",
    "test_loss /= len(test_dataloader.dataset)\n",
    "print(f' Mean Loss of Function: {test_loss}, Accuracy: {accuracy}')"
   ]
  },
  {
   "cell_type": "code",
   "execution_count": 12,
   "id": "4b81757e-bcf7-4219-9277-19850d0edb55",
   "metadata": {
    "tags": []
   },
   "outputs": [],
   "source": [
    "model.eval()\n",
    "with torch.no_grad():\n",
    "    for inputs, _ in test_dataloader:\n",
    "        predictions = model(inputs)\n",
    "\n",
    "predictions_numpy = predictions.cpu().numpy()\n",
    "pred = pd.DataFrame(predictions_numpy)"
   ]
  },
  {
   "cell_type": "code",
   "execution_count": 13,
   "id": "d5d91cd3-1e3b-4cfe-9083-3fdd77857096",
   "metadata": {
    "tags": []
   },
   "outputs": [],
   "source": [
    "df_60 = pd.read_csv('./Spectral_Data/spectral_data/1200MHz/spectral_data_05_00064.csv')\n",
    "df_x = df_60['60MHz_intensity']\n",
    "df_x = df_x.to_numpy()\n",
    "df_x = torch.Tensor(df_x).to(device)"
   ]
  },
  {
   "cell_type": "code",
   "execution_count": 14,
   "id": "5950abca-3ecc-475a-88a1-b0779dd1629b",
   "metadata": {
    "tags": []
   },
   "outputs": [
    {
     "data": {
      "text/plain": [
       "array([ 0.00398319, -0.00346352, -0.00249501, ...,  0.00679013,\n",
       "        0.00092619, -0.00027115], dtype=float32)"
      ]
     },
     "execution_count": 14,
     "metadata": {},
     "output_type": "execute_result"
    }
   ],
   "source": [
    "predictions = model(df_x)\n",
    "predictions_numpy = predictions.detach().cpu().numpy()\n",
    "predictions_numpy"
   ]
  },
  {
   "cell_type": "code",
   "execution_count": 15,
   "id": "32c4a778-ca99-40c3-8788-399b1deb9e50",
   "metadata": {
    "tags": []
   },
   "outputs": [
    {
     "data": {
      "image/png": "[encoded data removed]",
      "text/plain": [
       "<Figure size 640x480 with 1 Axes>"
      ]
     },
     "metadata": {},
     "output_type": "display_data"
    },
    {
     "data": {
      "text/plain": [
       "(array([-0.5       , -0.49799964, -0.49599927, ..., 10.49599927,\n",
       "        10.49799964, 10.5       ]),\n",
       " array([ 0.00398319, -0.00346352, -0.00249501, ...,  0.00679013,\n",
       "         0.00092619, -0.00027115], dtype=float32))"
      ]
     },
     "execution_count": 15,
     "metadata": {},
     "output_type": "execute_result"
    }
   ],
   "source": [
    "x = np.linspace(-.5,10.5,5500)\n",
    "y = predictions_numpy\n",
    "\n",
    "\n",
    "nmrsim.plt.mplplot_lineshape(x, y, limits=(-0.5, 10.5))"
   ]
  },
  {
   "cell_type": "code",
   "execution_count": 16,
   "id": "e826cff8-48f8-4218-a324-d74e53839e0e",
   "metadata": {
    "tags": []
   },
   "outputs": [
    {
     "data": {
      "image/png": "[encoded data removed]",
      "text/plain": [
       "<Figure size 640x480 with 1 Axes>"
      ]
     },
     "metadata": {},
     "output_type": "display_data"
    },
    {
     "data": {
      "text/plain": [
       "(array([-0.5       , -0.49799964, -0.49599927, ..., 10.49599927,\n",
       "        10.49799964, 10.5       ]),\n",
       " array([4.34597590e-07, 4.37457972e-07, 4.40352316e-07, ...,\n",
       "        1.79809157e-07, 1.79613227e-07, 1.79417631e-07]))"
      ]
     },
     "execution_count": 16,
     "metadata": {},
     "output_type": "execute_result"
    }
   ],
   "source": [
    "nmrsim.plt.mplplot_lineshape(np.array(df_60['1200MHz_ppm']), np.array(df_60['1200MHz_intensity']), limits=(-0.5, 10.5))"
   ]
  },
  {
   "cell_type": "code",
   "execution_count": null,
   "id": "6ebb0953-0686-41e8-872c-9672a6de63de",
   "metadata": {},
   "outputs": [],
   "source": [
    "test = glob.glob(os.path.join('./Spectral_Data/spectral_data/1200MHz', \n",
    "                                                       'spectral_data_*.csv'))\n",
    "\n",
    "y_60 = []\n",
    "y_1200 = []\n",
    "\n",
    "for file in test:\n",
    "    df = pd.read_csv(file)\n",
    "    array_60 = df['60MHz_intensity'].to_numpy()\n",
    "    array_1200 = df['1200MHz_intensity'].to_numpy()\n",
    "    y_60.append(array_60)\n",
    "    y_1200.append(array_1200)\n",
    "\n",
    "tensor = torch.Tensor(y_1200)\n",
    "reshaped_tensor = tensor.unsqueeze(1)\n",
    "\n",
    "reshaped_tensor.shape"
   ]
  },
  {
   "cell_type": "code",
   "execution_count": null,
   "id": "2072c108-a76a-4a4b-b2c6-b4c6fa48e3fa",
   "metadata": {},
   "outputs": [],
   "source": []
  },
  {
   "cell_type": "code",
   "execution_count": null,
   "id": "d398fd9b-709c-4b82-b2ac-a946eeec4986",
   "metadata": {},
   "outputs": [],
   "source": []
  },
  {
   "cell_type": "code",
   "execution_count": null,
   "id": "28ff8df6-ef01-4c8a-bc54-937398642f73",
   "metadata": {},
   "outputs": [],
   "source": []
  }
 ],
 "metadata": {
  "kernelspec": {
   "display_name": "Python 3 (ipykernel)",
   "language": "python",
   "name": "python3"
  },
  "language_info": {
   "codemirror_mode": {
    "name": "ipython",
    "version": 3
   },
   "file_extension": ".py",
   "mimetype": "text/x-python",
   "name": "python",
   "nbconvert_exporter": "python",
   "pygments_lexer": "ipython3",
   "version": "3.7.7"
  }
 },
 "nbformat": 4,
 "nbformat_minor": 5
}
