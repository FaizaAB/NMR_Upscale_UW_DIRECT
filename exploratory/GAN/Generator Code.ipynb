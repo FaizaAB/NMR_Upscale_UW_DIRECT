{
 "cells": [
  {
   "cell_type": "code",
   "execution_count": 2,
   "id": "528bea56",
   "metadata": {},
   "outputs": [],
   "source": [
    "import torch\n",
    "import torch.nn as nn\n",
    "import torch.optim as optim\n",
    "from torch.utils.data import DataLoader, Dataset\n",
    "import numpy as np\n",
    "import matplotlib.pyplot as plt\n",
    "import seaborn as sb\n",
    "import glob\n",
    "import os\n",
    "import pandas as pd\n",
    "from sklearn.model_selection import train_test_split\n",
    "import math\n",
    "from torch.utils.data import Dataset, DataLoader, TensorDataset\n",
    "from sklearn.model_selection import train_test_split\n",
    "from sklearn.metrics import r2_score"
   ]
  },
  {
   "cell_type": "code",
   "execution_count": 3,
   "id": "dafe6f72",
   "metadata": {},
   "outputs": [],
   "source": [
    "df_600=pd.DataFrame()\n",
    "df_600=pd.read_csv(\"600.csv\")\n",
    "\n",
    "df_60=pd.DataFrame()\n",
    "df_60=pd.read_csv(\"60.csv\")\n",
    "\n"
   ]
  },
  {
   "cell_type": "code",
   "execution_count": 4,
   "id": "5658195e",
   "metadata": {},
   "outputs": [
    {
     "name": "stdout",
     "output_type": "stream",
     "text": [
      "Using cpu device\n"
     ]
    }
   ],
   "source": [
    "# whether to run on GPU or CPU\n",
    "device = torch.device('cuda' if torch.cuda.is_available() else 'cpu')\n",
    "print(f\"Using {device} device\")\n",
    "#print(torch.cuda.get_device_name(0))"
   ]
  },
  {
   "cell_type": "code",
   "execution_count": 5,
   "id": "16232a25",
   "metadata": {},
   "outputs": [],
   "source": [
    "# Split the dataset into train, validation, and test sets\n",
    "x_train, x_test, y_train, y_test = train_test_split(df_60, df_600, test_size=0.2, random_state=42)\n",
    "x_train, x_val, y_train, y_val = train_test_split(x_train, y_train, test_size=0.25, random_state=42)\n",
    "\n",
    "# Convert the data to PyTorch tensors\n",
    "x_train = torch.tensor(x_train.values).float()\n",
    "y_train = torch.tensor(y_train.values).float()\n",
    "x_val = torch.tensor(x_val.values).float()\n",
    "y_val = torch.tensor(y_val.values).float()\n",
    "x_test = torch.tensor(x_test.values).float()\n",
    "y_test = torch.tensor(y_test.values).float()"
   ]
  },
  {
   "cell_type": "code",
   "execution_count": 6,
   "id": "c6399baa",
   "metadata": {},
   "outputs": [
    {
     "data": {
      "text/plain": [
       "'\\nclass SpectrumUpscaler(nn.Module):\\n    def __init__(self):\\n        super(SpectrumUpscaler, self).__init__()\\n        self.fc1 = nn.Linear(5500, 256)\\n        self.fc2 = nn.Linear(256, 512)\\n        self.fc3 = nn.Linear(512, 1024)\\n        self.fc4 = nn.Linear(1024, 2048)\\n        self.fc5 = nn.Linear(2048, 4096)\\n        self.fc6 = nn.Linear(4096, 8192)\\n        self.fc7 = nn.Linear(8192, 16384)\\n        self.fc8 = nn.Linear(16384, 30720)\\n        self.fc9 = nn.Linear(30720, 5500)\\n\\n    def forward(self, x):\\n        x = nn.functional.relu(self.fc1(x))\\n        x = nn.functional.relu(self.fc2(x))\\n        x = nn.functional.relu(self.fc3(x))\\n        x = nn.functional.relu(self.fc4(x))\\n        x = nn.functional.relu(self.fc5(x))\\n        x = nn.functional.relu(self.fc6(x))\\n        x = nn.functional.relu(self.fc7(x))\\n        x = nn.functional.relu(self.fc8(x))\\n        x = self.fc9(x)\\n        return x\\n'"
      ]
     },
     "execution_count": 6,
     "metadata": {},
     "output_type": "execute_result"
    }
   ],
   "source": [
    "\"\"\"\n",
    "class SpectrumUpscaler(nn.Module):\n",
    "    def __init__(self):\n",
    "        super(SpectrumUpscaler, self).__init__()\n",
    "        self.fc1 = nn.Linear(5500, 256)\n",
    "        self.fc2 = nn.Linear(256, 512)\n",
    "        self.fc3 = nn.Linear(512, 1024)\n",
    "        self.fc4 = nn.Linear(1024, 2048)\n",
    "        self.fc5 = nn.Linear(2048, 4096)\n",
    "        self.fc6 = nn.Linear(4096, 8192)\n",
    "        self.fc7 = nn.Linear(8192, 16384)\n",
    "        self.fc8 = nn.Linear(16384, 30720)\n",
    "        self.fc9 = nn.Linear(30720, 5500)\n",
    "\n",
    "    def forward(self, x):\n",
    "        x = torch.tanh(self.fc1(x))\n",
    "        x = torch.tanh(self.fc2(x))\n",
    "        x = torch.tanh(self.fc3(x))\n",
    "        x = torch.tanh(self.fc4(x))\n",
    "        x = torch.tanh(self.fc5(x))\n",
    "        x = torch.tanh(self.fc6(x))\n",
    "        x = torch.tanh(self.fc7(x))\n",
    "        x = torch.tanh(self.fc8(x))\n",
    "        x = self.fc9(x)\n",
    "        return x\n",
    "\"\"\"\n",
    "\n",
    "\n",
    "class SpectrumUpscaler(nn.Module):\n",
    "    def __init__(self):\n",
    "        super(SpectrumUpscaler, self).__init__()\n",
    "        self.fc1 = nn.Linear(5500, 256)\n",
    "        self.fc2 = nn.Linear(256, 512)\n",
    "        self.fc3 = nn.Linear(512, 1024)\n",
    "        self.fc4 = nn.Linear(1024, 2048)\n",
    "        self.fc5 = nn.Linear(2048, 4096)\n",
    "        self.fc6 = nn.Linear(4096, 8192)\n",
    "        self.fc7 = nn.Linear(8192, 16384)\n",
    "        self.fc8 = nn.Linear(16384, 30720)\n",
    "        self.fc9 = nn.Linear(30720, 5500)\n",
    "\n",
    "    def forward(self, x):\n",
    "        x = torch.sigmoid(self.fc1(x))\n",
    "        x = torch.sigmoid(self.fc2(x))\n",
    "        x = torch.sigmoid(self.fc3(x))\n",
    "        x = torch.sigmoid(self.fc4(x))\n",
    "        x = torch.sigmoid(self.fc5(x))\n",
    "        x = torch.sigmoid(self.fc6(x))\n",
    "        x = torch.sigmoid(self.fc7(x))\n",
    "        x = torch.sigmoid(self.fc8(x))\n",
    "        x = self.fc9(x)\n",
    "        return x\n",
    "\"\"\"\n",
    "class SpectrumUpscaler(nn.Module):\n",
    "    def __init__(self):\n",
    "        super(SpectrumUpscaler, self).__init__()\n",
    "        self.fc1 = nn.Linear(5500, 256)\n",
    "        self.fc2 = nn.Linear(256, 512)\n",
    "        self.fc3 = nn.Linear(512, 1024)\n",
    "        self.fc4 = nn.Linear(1024, 2048)\n",
    "        self.fc5 = nn.Linear(2048, 4096)\n",
    "        self.fc6 = nn.Linear(4096, 8192)\n",
    "        self.fc7 = nn.Linear(8192, 16384)\n",
    "        self.fc8 = nn.Linear(16384, 30720)\n",
    "        self.fc9 = nn.Linear(30720, 5500)\n",
    "\n",
    "    def forward(self, x):\n",
    "        x = nn.functional.relu(self.fc1(x))\n",
    "        x = nn.functional.relu(self.fc2(x))\n",
    "        x = nn.functional.relu(self.fc3(x))\n",
    "        x = nn.functional.relu(self.fc4(x))\n",
    "        x = nn.functional.relu(self.fc5(x))\n",
    "        x = nn.functional.relu(self.fc6(x))\n",
    "        x = nn.functional.relu(self.fc7(x))\n",
    "        x = nn.functional.relu(self.fc8(x))\n",
    "        x = self.fc9(x)\n",
    "        return x\n",
    "\"\"\""
   ]
  },
  {
   "cell_type": "code",
   "execution_count": 7,
   "id": "93ba42dd",
   "metadata": {},
   "outputs": [
    {
     "name": "stdout",
     "output_type": "stream",
     "text": [
      "Epoch 1/5, Train Loss: 0.0840, Val Loss: 115.0424\n",
      "Epoch 2/5, Train Loss: 115.0419, Val Loss: 8.4503\n",
      "Epoch 3/5, Train Loss: 8.4502, Val Loss: 1.0924\n",
      "Epoch 4/5, Train Loss: 1.0925, Val Loss: 0.5163\n",
      "Epoch 5/5, Train Loss: 0.5164, Val Loss: 0.2449\n",
      "Test Loss: 0.2450\n"
     ]
    }
   ],
   "source": [
    "\n",
    "# Define the model\n",
    "model = SpectrumUpscaler()\n",
    "\n",
    "# Define the loss function and optimizer\n",
    "criterion = nn.MSELoss()\n",
    "optimizer = torch.optim.Adam(model.parameters(), lr=0.001)\n",
    "\n",
    "# Train the model\n",
    "num_epochs = 5\n",
    "batch_size = 500\n",
    "train_losses = []\n",
    "val_losses = []\n",
    "for epoch in range(num_epochs):\n",
    "    for i in range(0, x_train.shape[0], batch_size):\n",
    "        # Get the batch\n",
    "        batch_x = x_train[i:i+batch_size]\n",
    "        batch_y = y_train[i:i+batch_size]\n",
    "        \n",
    "        # Zero the parameter gradients\n",
    "        optimizer.zero_grad()\n",
    "\n",
    "        # Forward pass\n",
    "        outputs = model(batch_x)\n",
    "\n",
    "        # Compute the loss\n",
    "        loss = criterion(outputs, batch_y)\n",
    "\n",
    "        # Backward pass and optimize\n",
    "        loss.backward()\n",
    "        optimizer.step()\n",
    "\n",
    "    # Evaluate the model on the validation set\n",
    "    with torch.no_grad():\n",
    "        val_outputs = model(x_val)\n",
    "        val_loss = criterion(val_outputs, y_val)\n",
    "\n",
    "    train_losses.append(loss.item())\n",
    "    val_losses.append(val_loss.item())\n",
    "    print(f\"Epoch {epoch+1}/{num_epochs}, Train Loss: {loss.item():.4f}, Val Loss: {val_loss.item():.4f}\")\n",
    "\n",
    "# Evaluate the model on the test set\n",
    "with torch.no_grad():\n",
    "    test_outputs = model(x_test)\n",
    "    test_loss = criterion(test_outputs, y_test)\n",
    "\n",
    "print(f\"Test Loss: {test_loss.item():.4f}\")\n",
    " "
   ]
  },
  {
   "cell_type": "code",
   "execution_count": 8,
   "id": "f6d0105a",
   "metadata": {},
   "outputs": [
    {
     "data": {
      "text/plain": [
       "tensor([[-0.6009, -0.4009, -0.5260,  ..., -0.4533,  0.3780, -0.4802],\n",
       "        [-0.6009, -0.4009, -0.5260,  ..., -0.4533,  0.3780, -0.4802],\n",
       "        [-0.6009, -0.4009, -0.5260,  ..., -0.4533,  0.3780, -0.4802],\n",
       "        ...,\n",
       "        [-0.6009, -0.4009, -0.5260,  ..., -0.4533,  0.3780, -0.4802],\n",
       "        [-0.6009, -0.4009, -0.5260,  ..., -0.4533,  0.3780, -0.4802],\n",
       "        [-0.6009, -0.4009, -0.5260,  ..., -0.4533,  0.3780, -0.4802]])"
      ]
     },
     "execution_count": 8,
     "metadata": {},
     "output_type": "execute_result"
    }
   ],
   "source": [
    "test_outputs"
   ]
  },
  {
   "cell_type": "code",
   "execution_count": 9,
   "id": "44bf52e6",
   "metadata": {},
   "outputs": [],
   "source": [
    "df = pd.DataFrame(test_outputs.numpy())\n",
    "df.to_csv('Fake_Data.csv', index=True)"
   ]
  },
  {
   "cell_type": "code",
   "execution_count": 10,
   "id": "01509233",
   "metadata": {},
   "outputs": [],
   "source": [
    "df=df.transpose()"
   ]
  },
  {
   "cell_type": "code",
   "execution_count": 11,
   "id": "a22e5873",
   "metadata": {},
   "outputs": [
    {
     "data": {
      "text/plain": [
       "0      -0.600941\n",
       "1      -0.400933\n",
       "2      -0.525986\n",
       "3      -0.542328\n",
       "4       0.461084\n",
       "          ...   \n",
       "5495   -0.483572\n",
       "5496    0.421823\n",
       "5497   -0.453258\n",
       "5498    0.377955\n",
       "5499   -0.480249\n",
       "Name: 0, Length: 5500, dtype: float32"
      ]
     },
     "execution_count": 11,
     "metadata": {},
     "output_type": "execute_result"
    }
   ],
   "source": [
    "df[0]"
   ]
  },
  {
   "cell_type": "code",
   "execution_count": 12,
   "id": "1c8b2115",
   "metadata": {},
   "outputs": [
    {
     "data": {
      "text/plain": [
       "<AxesSubplot: ylabel='0'>"
      ]
     },
     "execution_count": 12,
     "metadata": {},
     "output_type": "execute_result"
    },
    {
     "data": {
      "image/png": "[encoded data removed]",
      "text/plain": [
       "<Figure size 640x480 with 1 Axes>"
      ]
     },
     "metadata": {},
     "output_type": "display_data"
    }
   ],
   "source": [
    "sb.lineplot(df[0])"
   ]
  },
  {
   "cell_type": "code",
   "execution_count": 87,
   "id": "4aa9b7ce",
   "metadata": {},
   "outputs": [],
   "source": [
    "y_test\n",
    "df_y = pd.DataFrame(y_test.numpy())\n",
    "df_y=df_y.transpose()"
   ]
  },
  {
   "cell_type": "code",
   "execution_count": 88,
   "id": "50f0cd9c",
   "metadata": {},
   "outputs": [
    {
     "data": {
      "text/plain": [
       "<AxesSubplot: ylabel='0'>"
      ]
     },
     "execution_count": 88,
     "metadata": {},
     "output_type": "execute_result"
    },
    {
     "data": {
      "image/png": "[encoded data removed]",
      "text/plain": [
       "<Figure size 640x480 with 1 Axes>"
      ]
     },
     "metadata": {},
     "output_type": "display_data"
    }
   ],
   "source": [
    "sb.lineplot(df_y[0])"
   ]
  },
  {
   "cell_type": "code",
   "execution_count": 77,
   "id": "3c3aa986",
   "metadata": {},
   "outputs": [
    {
     "data": {
      "text/plain": [
       "0       0.000004\n",
       "1       0.000004\n",
       "2       0.000004\n",
       "3       0.000004\n",
       "4       0.000004\n",
       "          ...   \n",
       "5495    0.000002\n",
       "5496    0.000002\n",
       "5497    0.000002\n",
       "5498    0.000002\n",
       "5499    0.000002\n",
       "Name: 0, Length: 5500, dtype: float32"
      ]
     },
     "execution_count": 77,
     "metadata": {},
     "output_type": "execute_result"
    }
   ],
   "source": [
    "df_y[0]"
   ]
  },
  {
   "cell_type": "code",
   "execution_count": 78,
   "id": "bad13705",
   "metadata": {},
   "outputs": [
    {
     "name": "stdout",
     "output_type": "stream",
     "text": [
      "R2 score: -40187.433091420084\n"
     ]
    }
   ],
   "source": [
    "r2 = r2_score(df_y[0], df[0])\n",
    "print(\"R2 score:\", r2)"
   ]
  },
  {
   "cell_type": "code",
   "execution_count": null,
   "id": "65ff6e8d",
   "metadata": {},
   "outputs": [],
   "source": []
  }
 ],
 "metadata": {
  "kernelspec": {
   "display_name": "Python 3 (ipykernel)",
   "language": "python",
   "name": "python3"
  },
  "language_info": {
   "codemirror_mode": {
    "name": "ipython",
    "version": 3
   },
   "file_extension": ".py",
   "mimetype": "text/x-python",
   "name": "python",
   "nbconvert_exporter": "python",
   "pygments_lexer": "ipython3",
   "version": "3.10.9"
  }
 },
 "nbformat": 4,
 "nbformat_minor": 5
}
